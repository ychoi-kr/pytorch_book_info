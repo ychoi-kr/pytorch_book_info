{
 "cells": [
  {
   "cell_type": "markdown",
   "metadata": {
    "id": "y-enheccNr_a"
   },
   "source": [
    "# 2장\t파이토치의 기본 기능"
   ]
  },
  {
   "cell_type": "code",
   "execution_count": 1,
   "metadata": {
    "id": "vViOXOAVNr_d"
   },
   "outputs": [
    {
     "name": "stderr",
     "output_type": "stream",
     "text": [
      "'tail'은(는) 내부 또는 외부 명령, 실행할 수 있는 프로그램, 또는\n",
      "배치 파일이 아닙니다.\n",
      "'tail'은(는) 내부 또는 외부 명령, 실행할 수 있는 프로그램, 또는\n",
      "배치 파일이 아닙니다.\n"
     ]
    }
   ],
   "source": [
    "# 必要ライブラリの導入\n",
    "\n",
    "!pip install japanize_matplotlib | tail -n 1\n",
    "!pip install torchviz | tail -n 1"
   ]
  },
  {
   "cell_type": "code",
   "execution_count": 2,
   "metadata": {
    "id": "jfMls7nCNr_e"
   },
   "outputs": [],
   "source": [
    "# 必要ライブラリのインポート\n",
    "\n",
    "%matplotlib inline\n",
    "import numpy as np\n",
    "import matplotlib.pyplot as plt\n",
    "import japanize_matplotlib\n",
    "from IPython.display import display"
   ]
  },
  {
   "cell_type": "code",
   "execution_count": 3,
   "metadata": {
    "id": "pU48DdrNNr_e"
   },
   "outputs": [],
   "source": [
    "# デフォルトフォントサイズ変更\n",
    "plt.rcParams['font.size'] = 14\n",
    "\n",
    "# デフォルトグラフサイズ変更\n",
    "plt.rcParams['figure.figsize'] = (6,6)\n",
    "\n",
    "# デフォルトで方眼表示ON\n",
    "plt.rcParams['axes.grid'] = True"
   ]
  },
  {
   "cell_type": "markdown",
   "metadata": {
    "id": "9rmD_Xk2Nr_f"
   },
   "source": [
    "## 2.2\t텐서"
   ]
  },
  {
   "cell_type": "markdown",
   "metadata": {
    "id": "IB73VStvNr_f"
   },
   "source": [
    "### 라이브러리 임포트"
   ]
  },
  {
   "cell_type": "code",
   "execution_count": 4,
   "metadata": {
    "id": "VO_-PyPRNr_f",
    "scrolled": true
   },
   "outputs": [],
   "source": [
    "# PyTorchライブラリ\n",
    "\n",
    "import torch"
   ]
  },
  {
   "cell_type": "markdown",
   "metadata": {
    "id": "vc5dvrZgNr_f"
   },
   "source": [
    "### 다양한 계수의 텐서 만들기"
   ]
  },
  {
   "cell_type": "code",
   "execution_count": 5,
   "metadata": {
    "id": "4I1RggAmNr_g"
   },
   "outputs": [
    {
     "name": "stdout",
     "output_type": "stream",
     "text": [
      "<class 'torch.Tensor'>\n",
      "torch.float32\n"
     ]
    }
   ],
   "source": [
    "# 0階テンソル (スカラー)\n",
    "r0 = torch.tensor(1.0).float()\n",
    "\n",
    "# typeを調べる\n",
    "print(type(r0))\n",
    "\n",
    "# dtypeを調べる\n",
    "print(r0.dtype)"
   ]
  },
  {
   "cell_type": "code",
   "execution_count": 6,
   "metadata": {
    "id": "-VgfrubLNr_g"
   },
   "outputs": [
    {
     "name": "stdout",
     "output_type": "stream",
     "text": [
      "torch.Size([])\n",
      "tensor(1.)\n"
     ]
    }
   ],
   "source": [
    "# shapeを調べる\n",
    "print(r0.shape)\n",
    "\n",
    "# データを調べる\n",
    "print(r0.data)"
   ]
  },
  {
   "cell_type": "code",
   "execution_count": 7,
   "metadata": {
    "id": "X0D_1LNKNr_g"
   },
   "outputs": [
    {
     "name": "stdout",
     "output_type": "stream",
     "text": [
      "(5,)\n",
      "torch.float32\n",
      "torch.Size([5])\n",
      "tensor([1., 2., 3., 4., 5.])\n"
     ]
    }
   ],
   "source": [
    "# 1階テンソル (ベクトル)\n",
    "\n",
    "# 1階のNumPy変数作成\n",
    "r1_np = np.array([1, 2, 3, 4, 5])\n",
    "print(r1_np.shape)\n",
    "\n",
    "# NumPyからテンソルに変換\n",
    "r1 = torch.tensor(r1_np).float()\n",
    "\n",
    "# dtypeを調べる\n",
    "print(r1.dtype)\n",
    "\n",
    "# shapeを調べる\n",
    "print(r1.shape)\n",
    "\n",
    "# データを調べる\n",
    "print(r1.data)"
   ]
  },
  {
   "cell_type": "code",
   "execution_count": 8,
   "metadata": {
    "id": "VamMmZJYNr_h"
   },
   "outputs": [
    {
     "name": "stdout",
     "output_type": "stream",
     "text": [
      "(2, 3)\n",
      "torch.Size([2, 3])\n",
      "tensor([[1., 5., 6.],\n",
      "        [4., 3., 2.]])\n"
     ]
    }
   ],
   "source": [
    "# 2階テンソル (行列)\n",
    "\n",
    "# 2階のNmPy変数作成\n",
    "r2_np = np.array([[1, 5, 6], [4, 3, 2]])\n",
    "print(r2_np.shape)\n",
    "\n",
    "# NumPyからテンソルに変換\n",
    "r2 = torch.tensor(r2_np).float()\n",
    "\n",
    "# shapeを調べる\n",
    "print(r2.shape)\n",
    "\n",
    "# データを調べる\n",
    "print(r2.data)"
   ]
  },
  {
   "cell_type": "code",
   "execution_count": 9,
   "metadata": {
    "id": "2X7xX5adNr_h"
   },
   "outputs": [
    {
     "name": "stdout",
     "output_type": "stream",
     "text": [
      "torch.Size([3, 2, 2])\n",
      "tensor([[[-0.1115,  0.1204],\n",
      "         [-0.3696, -0.2404]],\n",
      "\n",
      "        [[-1.1969,  0.2093],\n",
      "         [-0.9724, -0.7550]],\n",
      "\n",
      "        [[ 0.3239, -0.1085],\n",
      "         [ 0.2103, -0.3908]]])\n"
     ]
    }
   ],
   "source": [
    "# ３階テンソル\n",
    "\n",
    "# 乱数seedの初期化\n",
    "torch.manual_seed(123)\n",
    "\n",
    "# shape=[3,2,2]の正規分布変数テンソルを作る\n",
    "r3 = torch.randn((3, 2, 2))\n",
    "\n",
    "# shapeを調べる\n",
    "print(r3.shape)\n",
    "\n",
    "# データを調べる\n",
    "print(r3.data)"
   ]
  },
  {
   "cell_type": "code",
   "execution_count": 10,
   "metadata": {
    "id": "bUB69bIeNr_h"
   },
   "outputs": [
    {
     "name": "stdout",
     "output_type": "stream",
     "text": [
      "torch.Size([2, 3, 2, 2])\n",
      "tensor([[[[1., 1.],\n",
      "          [1., 1.]],\n",
      "\n",
      "         [[1., 1.],\n",
      "          [1., 1.]],\n",
      "\n",
      "         [[1., 1.],\n",
      "          [1., 1.]]],\n",
      "\n",
      "\n",
      "        [[[1., 1.],\n",
      "          [1., 1.]],\n",
      "\n",
      "         [[1., 1.],\n",
      "          [1., 1.]],\n",
      "\n",
      "         [[1., 1.],\n",
      "          [1., 1.]]]])\n"
     ]
    }
   ],
   "source": [
    "# 4階テンソル\n",
    "\n",
    "# shape=[2,3,2,2]の要素がすべて1のテンソルを作る\n",
    "r4 = torch.ones((2, 3, 2, 2))\n",
    "\n",
    "# shapeを調べる\n",
    "print(r4.shape)\n",
    "\n",
    "# データを調べる\n",
    "print(r4.data)"
   ]
  },
  {
   "cell_type": "markdown",
   "metadata": {
    "id": "f9-sP0S1Nr_i"
   },
   "source": [
    "### 정숫값을 가진 텐서 만들기"
   ]
  },
  {
   "cell_type": "code",
   "execution_count": 11,
   "metadata": {
    "id": "R-0ZFcwrNr_i"
   },
   "outputs": [
    {
     "name": "stdout",
     "output_type": "stream",
     "text": [
      "torch.int64\n",
      "tensor([1, 2, 3, 4, 5])\n"
     ]
    }
   ],
   "source": [
    "r5 = r1.long()\n",
    "\n",
    "# dtype　を確認\n",
    "print(r5.dtype)\n",
    "\n",
    "# 値を確認\n",
    "print(r5)"
   ]
  },
  {
   "cell_type": "markdown",
   "metadata": {
    "id": "xBG7lLjANr_i"
   },
   "source": [
    "### view 함수"
   ]
  },
  {
   "cell_type": "code",
   "execution_count": 12,
   "metadata": {
    "id": "LPPH3l5sNr_i"
   },
   "outputs": [
    {
     "name": "stdout",
     "output_type": "stream",
     "text": [
      "torch.Size([3, 4])\n",
      "tensor([[-0.1115,  0.1204, -0.3696, -0.2404],\n",
      "        [-1.1969,  0.2093, -0.9724, -0.7550],\n",
      "        [ 0.3239, -0.1085,  0.2103, -0.3908]])\n"
     ]
    }
   ],
   "source": [
    "# 2階化\n",
    "# 要素数に-1を指定すると、この数を自動調整する\n",
    "\n",
    "r6 = r3.view(3, -1)\n",
    "\n",
    "# shape確認\n",
    "print(r6.shape)\n",
    "\n",
    "# 値確認\n",
    "print(r6.data)"
   ]
  },
  {
   "cell_type": "code",
   "execution_count": 13,
   "metadata": {
    "id": "BXeVtrWVNr_i",
    "scrolled": false
   },
   "outputs": [
    {
     "name": "stdout",
     "output_type": "stream",
     "text": [
      "torch.Size([12])\n",
      "tensor([-0.1115,  0.1204, -0.3696, -0.2404, -1.1969,  0.2093, -0.9724, -0.7550,\n",
      "         0.3239, -0.1085,  0.2103, -0.3908])\n"
     ]
    }
   ],
   "source": [
    "# 1階化\n",
    "# 要素数に-1を指定すると、この数を自動調整する\n",
    "\n",
    "r7 = r3.view(-1)\n",
    "\n",
    "# shape確認\n",
    "print(r7.shape)\n",
    "\n",
    "# 値確認\n",
    "print(r7.data)"
   ]
  },
  {
   "cell_type": "markdown",
   "metadata": {
    "id": "Xv5pRJK1Nr_j"
   },
   "source": [
    "### 그 밖의 속성"
   ]
  },
  {
   "cell_type": "code",
   "execution_count": 14,
   "metadata": {
    "id": "5ZYg-dcENr_j"
   },
   "outputs": [
    {
     "name": "stdout",
     "output_type": "stream",
     "text": [
      "requires_grad:  False\n",
      "device:  cpu\n"
     ]
    }
   ],
   "source": [
    "# requires_grad属性\n",
    "print('requires_grad: ', r1.requires_grad)\n",
    "\n",
    "# device属性\n",
    "print('device: ', r1.device)"
   ]
  },
  {
   "cell_type": "markdown",
   "metadata": {
    "id": "0g-6LRsnNr_j"
   },
   "source": [
    "### item 함수"
   ]
  },
  {
   "cell_type": "code",
   "execution_count": 15,
   "metadata": {
    "id": "Tu3wXoDFNr_j",
    "scrolled": false
   },
   "outputs": [
    {
     "name": "stdout",
     "output_type": "stream",
     "text": [
      "<class 'float'>\n",
      "1.0\n"
     ]
    }
   ],
   "source": [
    "# スカラーテンソル(0階テンソル)に対してはitem関数で値を取り出せる\n",
    "\n",
    "item = r0.item()\n",
    "\n",
    "print(type(item))\n",
    "print(item)"
   ]
  },
  {
   "cell_type": "code",
   "execution_count": 16,
   "metadata": {
    "id": "zwi8v5C0Nr_j"
   },
   "outputs": [
    {
     "ename": "ValueError",
     "evalue": "only one element tensors can be converted to Python scalars",
     "output_type": "error",
     "traceback": [
      "\u001b[1;31m---------------------------------------------------------------------------\u001b[0m",
      "\u001b[1;31mValueError\u001b[0m                                Traceback (most recent call last)",
      "Input \u001b[1;32mIn [16]\u001b[0m, in \u001b[0;36m<cell line: 3>\u001b[1;34m()\u001b[0m\n\u001b[0;32m      1\u001b[0m \u001b[38;5;66;03m# 0階以外のテンソルにitem関数は無効\u001b[39;00m\n\u001b[1;32m----> 3\u001b[0m \u001b[38;5;28mprint\u001b[39m(\u001b[43mr1\u001b[49m\u001b[38;5;241;43m.\u001b[39;49m\u001b[43mitem\u001b[49m\u001b[43m(\u001b[49m\u001b[43m)\u001b[49m)\n",
      "\u001b[1;31mValueError\u001b[0m: only one element tensors can be converted to Python scalars"
     ]
    }
   ],
   "source": [
    "# 0階以外のテンソルにitem関数は無効\n",
    "\n",
    "print(r1.item())"
   ]
  },
  {
   "cell_type": "code",
   "execution_count": 17,
   "metadata": {
    "id": "dvE5Cy3iNr_k"
   },
   "outputs": [
    {
     "name": "stdout",
     "output_type": "stream",
     "text": [
      "torch.Size([1])\n",
      "1.0\n"
     ]
    }
   ],
   "source": [
    "# 要素数が1つだけの1階テンソルはOK\n",
    "# (2階以上でも同様)\n",
    "t1 = torch.ones(1)\n",
    "\n",
    "# shape確認\n",
    "print(t1.shape)\n",
    "\n",
    "# item関数呼び出し\n",
    "print(t1.item())"
   ]
  },
  {
   "cell_type": "markdown",
   "metadata": {
    "id": "JnrnIuI-Nr_k"
   },
   "source": [
    "### max 함수"
   ]
  },
  {
   "cell_type": "code",
   "execution_count": 18,
   "metadata": {
    "id": "bwyLGh_SNr_k"
   },
   "outputs": [
    {
     "name": "stdout",
     "output_type": "stream",
     "text": [
      "tensor([[1., 5., 6.],\n",
      "        [4., 3., 2.]])\n",
      "tensor(6.)\n"
     ]
    }
   ],
   "source": [
    "# 元テンソルr2の確認\n",
    "print(r2)\n",
    "\n",
    "# max関数を引数なしで呼び出すと、全体の最大値が取得できる\n",
    "print(r2.max())"
   ]
  },
  {
   "cell_type": "code",
   "execution_count": 19,
   "metadata": {
    "id": "kLkNmIS9Nr_k"
   },
   "outputs": [
    {
     "name": "stdout",
     "output_type": "stream",
     "text": [
      "torch.return_types.max(\n",
      "values=tensor([6., 4.]),\n",
      "indices=tensor([2, 0]))\n"
     ]
    }
   ],
   "source": [
    "# torch.max関数\n",
    "# 2つめの引数はどの軸で集約するかを意味する\n",
    "print(torch.max(r2, 1))"
   ]
  },
  {
   "cell_type": "code",
   "execution_count": 20,
   "metadata": {
    "id": "lwiblU1vNr_l"
   },
   "outputs": [
    {
     "name": "stdout",
     "output_type": "stream",
     "text": [
      "tensor([2, 0])\n"
     ]
    }
   ],
   "source": [
    "# 何番目の要素が最大値をとるかは、indicesを調べればいい\n",
    "# 以下の計算は、多値分類で予測ラベルを求めるときによく利用されるパターン\n",
    "print(torch.max(r2, 1)[1])"
   ]
  },
  {
   "cell_type": "markdown",
   "metadata": {
    "id": "W-CE04b7Nr_l"
   },
   "source": [
    "### 넘파이 변수로 변환"
   ]
  },
  {
   "cell_type": "code",
   "execution_count": 21,
   "metadata": {
    "id": "WPimA-EMNr_l"
   },
   "outputs": [
    {
     "name": "stdout",
     "output_type": "stream",
     "text": [
      "<class 'numpy.ndarray'>\n",
      "[[1. 5. 6.]\n",
      " [4. 3. 2.]]\n"
     ]
    }
   ],
   "source": [
    "# NumPy化\n",
    "r2_np = r2.data.numpy()\n",
    "\n",
    "# type 確認\n",
    "print(type(r2_np))\n",
    "\n",
    "# 値確認\n",
    "print(r2_np)"
   ]
  },
  {
   "cell_type": "markdown",
   "metadata": {
    "id": "85on1hQ4Nr_l"
   },
   "source": [
    "## 2.4\t2차함수의 경사 계산"
   ]
  },
  {
   "cell_type": "markdown",
   "metadata": {
    "id": "YiUz1baKNr_l"
   },
   "source": [
    " ### 경사 계산용 변수 정의"
   ]
  },
  {
   "cell_type": "code",
   "execution_count": 22,
   "metadata": {
    "id": "2K1rvdhiNr_l"
   },
   "outputs": [
    {
     "name": "stdout",
     "output_type": "stream",
     "text": [
      "[-2.   -1.75 -1.5  -1.25 -1.   -0.75 -0.5  -0.25  0.    0.25  0.5   0.75\n",
      "  1.    1.25  1.5   1.75  2.  ]\n"
     ]
    }
   ],
   "source": [
    "# xをnumpy配列で定義\n",
    "x_np = np.arange(-2, 2.1, 0.25)\n",
    "\n",
    "# xの値表示\n",
    "print(x_np)"
   ]
  },
  {
   "cell_type": "code",
   "execution_count": 23,
   "metadata": {
    "id": "H_YBx-t9Nr_m"
   },
   "outputs": [
    {
     "name": "stdout",
     "output_type": "stream",
     "text": [
      "tensor([-2.0000, -1.7500, -1.5000, -1.2500, -1.0000, -0.7500, -0.5000, -0.2500,\n",
      "         0.0000,  0.2500,  0.5000,  0.7500,  1.0000,  1.2500,  1.5000,  1.7500,\n",
      "         2.0000], requires_grad=True)\n"
     ]
    }
   ],
   "source": [
    "# (1) 勾配計算用変数の定義\n",
    "x = torch.tensor(x_np, requires_grad=True, \n",
    "    dtype=torch.float32)\n",
    "\n",
    "# 結果確認\n",
    "print(x)"
   ]
  },
  {
   "cell_type": "markdown",
   "metadata": {
    "id": "oos9Q69GNr_m"
   },
   "source": [
    "### 2차함수의 계산"
   ]
  },
  {
   "cell_type": "code",
   "execution_count": 24,
   "metadata": {
    "id": "ky1X5hPHNr_m"
   },
   "outputs": [],
   "source": [
    "# 2次関数の計算\n",
    "# 裏で計算グラフが自動生成される\n",
    "\n",
    "y = 2 * x**2 + 2"
   ]
  },
  {
   "cell_type": "markdown",
   "metadata": {
    "id": "iiL8-98INr_m"
   },
   "source": [
    "$ y = 2x^2 + 2$ を意味する"
   ]
  },
  {
   "cell_type": "code",
   "execution_count": 25,
   "metadata": {
    "id": "m0Pwm9jUNr_m"
   },
   "outputs": [
    {
     "name": "stdout",
     "output_type": "stream",
     "text": [
      "tensor([10.0000,  8.1250,  6.5000,  5.1250,  4.0000,  3.1250,  2.5000,  2.1250,\n",
      "         2.0000,  2.1250,  2.5000,  3.1250,  4.0000,  5.1250,  6.5000,  8.1250,\n",
      "        10.0000], grad_fn=<AddBackward0>)\n"
     ]
    }
   ],
   "source": [
    "# yの計算結果確認\n",
    "\n",
    "print(y)"
   ]
  },
  {
   "cell_type": "code",
   "execution_count": 26,
   "metadata": {
    "id": "-ONyC7tSNr_m"
   },
   "outputs": [
    {
     "data": {
      "image/png": "[encoded data removed]",
      "text/plain": [
       "<Figure size 432x432 with 1 Axes>"
      ]
     },
     "metadata": {
      "needs_background": "light"
     },
     "output_type": "display_data"
    }
   ],
   "source": [
    "# グラフ(散布図)描画\n",
    "fig1 = plt.gcf()\n",
    "plt.plot(x.data, y.data)\n",
    "plt.show()\n",
    "fig1.savefig(\"ex02-21.tif\", format=\"tif\", dpi=300)"
   ]
  },
  {
   "cell_type": "code",
   "execution_count": 27,
   "metadata": {
    "id": "L9S2STdKNr_n"
   },
   "outputs": [],
   "source": [
    "# 勾配計算のためには、最終値はスカラーの必要があるため、ダミーでsum関数をかける\n",
    "\n",
    "z = y.sum()"
   ]
  },
  {
   "cell_type": "code",
   "execution_count": 28,
   "metadata": {},
   "outputs": [
    {
     "name": "stdout",
     "output_type": "stream",
     "text": [
      "Requirement already satisfied: torchviz in c:\\users\\yong\\anaconda3\\envs\\pytorch_book_info\\lib\\site-packages (0.0.2)\n",
      "Requirement already satisfied: torch in c:\\users\\yong\\anaconda3\\envs\\pytorch_book_info\\lib\\site-packages (from torchviz) (1.11.0)\n",
      "Requirement already satisfied: graphviz in c:\\users\\yong\\anaconda3\\envs\\pytorch_book_info\\lib\\site-packages (from torchviz) (0.19.1)\n",
      "Requirement already satisfied: typing-extensions in c:\\users\\yong\\anaconda3\\envs\\pytorch_book_info\\lib\\site-packages (from torch->torchviz) (3.10.0.2)\n",
      "Note: you may need to restart the kernel to use updated packages.\n"
     ]
    }
   ],
   "source": [
    "pip install torchviz"
   ]
  },
  {
   "cell_type": "code",
   "execution_count": 29,
   "metadata": {
    "id": "HcLI2RtkNr_n",
    "scrolled": true
   },
   "outputs": [
    {
     "data": {
      "image/svg+xml": [
       "<?xml version=\"1.0\" encoding=\"UTF-8\" standalone=\"no\"?>\n",
       "<!DOCTYPE svg PUBLIC \"-//W3C//DTD SVG 1.1//EN\"\n",
       " \"http://www.w3.org/Graphics/SVG/1.1/DTD/svg11.dtd\">\n",
       "<!-- Generated by graphviz version 2.50.0 (20211204.2007)\n",
       " -->\n",
       "<!-- Pages: 1 -->\n",
       "<svg width=\"109pt\" height=\"380pt\"\n",
       " viewBox=\"0.00 0.00 109.00 380.00\" xmlns=\"http://www.w3.org/2000/svg\" xmlns:xlink=\"http://www.w3.org/1999/xlink\">\n",
       "<g id=\"graph0\" class=\"graph\" transform=\"scale(1 1) rotate(0) translate(4 376)\">\n",
       "<polygon fill=\"white\" stroke=\"transparent\" points=\"-4,4 -4,-376 105,-376 105,4 -4,4\"/>\n",
       "<!-- 2678388361232 -->\n",
       "<g id=\"node1\" class=\"node\">\n",
       "<title>2678388361232</title>\n",
       "<polygon fill=\"#caff70\" stroke=\"black\" points=\"77.5,-31 23.5,-31 23.5,0 77.5,0 77.5,-31\"/>\n",
       "<text text-anchor=\"middle\" x=\"50.5\" y=\"-7\" font-family=\"monospace\" font-size=\"10.00\"> ()</text>\n",
       "</g>\n",
       "<!-- 2678436373600 -->\n",
       "<g id=\"node2\" class=\"node\">\n",
       "<title>2678436373600</title>\n",
       "<polygon fill=\"lightgrey\" stroke=\"black\" points=\"95,-86 6,-86 6,-67 95,-67 95,-86\"/>\n",
       "<text text-anchor=\"middle\" x=\"50.5\" y=\"-74\" font-family=\"monospace\" font-size=\"10.00\">SumBackward0</text>\n",
       "</g>\n",
       "<!-- 2678436373600&#45;&gt;2678388361232 -->\n",
       "<g id=\"edge6\" class=\"edge\">\n",
       "<title>2678436373600&#45;&gt;2678388361232</title>\n",
       "<path fill=\"none\" stroke=\"black\" d=\"M50.5,-66.79C50.5,-60.07 50.5,-50.4 50.5,-41.34\"/>\n",
       "<polygon fill=\"black\" stroke=\"black\" points=\"54,-41.19 50.5,-31.19 47,-41.19 54,-41.19\"/>\n",
       "</g>\n",
       "<!-- 2678436374320 -->\n",
       "<g id=\"node3\" class=\"node\">\n",
       "<title>2678436374320</title>\n",
       "<polygon fill=\"lightgrey\" stroke=\"black\" points=\"95,-141 6,-141 6,-122 95,-122 95,-141\"/>\n",
       "<text text-anchor=\"middle\" x=\"50.5\" y=\"-129\" font-family=\"monospace\" font-size=\"10.00\">AddBackward0</text>\n",
       "</g>\n",
       "<!-- 2678436374320&#45;&gt;2678436373600 -->\n",
       "<g id=\"edge1\" class=\"edge\">\n",
       "<title>2678436374320&#45;&gt;2678436373600</title>\n",
       "<path fill=\"none\" stroke=\"black\" d=\"M50.5,-121.75C50.5,-114.8 50.5,-104.85 50.5,-96.13\"/>\n",
       "<polygon fill=\"black\" stroke=\"black\" points=\"54,-96.09 50.5,-86.09 47,-96.09 54,-96.09\"/>\n",
       "</g>\n",
       "<!-- 2678436374512 -->\n",
       "<g id=\"node4\" class=\"node\">\n",
       "<title>2678436374512</title>\n",
       "<polygon fill=\"lightgrey\" stroke=\"black\" points=\"95,-196 6,-196 6,-177 95,-177 95,-196\"/>\n",
       "<text text-anchor=\"middle\" x=\"50.5\" y=\"-184\" font-family=\"monospace\" font-size=\"10.00\">MulBackward0</text>\n",
       "</g>\n",
       "<!-- 2678436374512&#45;&gt;2678436374320 -->\n",
       "<g id=\"edge2\" class=\"edge\">\n",
       "<title>2678436374512&#45;&gt;2678436374320</title>\n",
       "<path fill=\"none\" stroke=\"black\" d=\"M50.5,-176.75C50.5,-169.8 50.5,-159.85 50.5,-151.13\"/>\n",
       "<polygon fill=\"black\" stroke=\"black\" points=\"54,-151.09 50.5,-141.09 47,-151.09 54,-151.09\"/>\n",
       "</g>\n",
       "<!-- 2678436374464 -->\n",
       "<g id=\"node5\" class=\"node\">\n",
       "<title>2678436374464</title>\n",
       "<polygon fill=\"lightgrey\" stroke=\"black\" points=\"95,-251 6,-251 6,-232 95,-232 95,-251\"/>\n",
       "<text text-anchor=\"middle\" x=\"50.5\" y=\"-239\" font-family=\"monospace\" font-size=\"10.00\">PowBackward0</text>\n",
       "</g>\n",
       "<!-- 2678436374464&#45;&gt;2678436374512 -->\n",
       "<g id=\"edge3\" class=\"edge\">\n",
       "<title>2678436374464&#45;&gt;2678436374512</title>\n",
       "<path fill=\"none\" stroke=\"black\" d=\"M50.5,-231.75C50.5,-224.8 50.5,-214.85 50.5,-206.13\"/>\n",
       "<polygon fill=\"black\" stroke=\"black\" points=\"54,-206.09 50.5,-196.09 47,-206.09 54,-206.09\"/>\n",
       "</g>\n",
       "<!-- 2678436374272 -->\n",
       "<g id=\"node6\" class=\"node\">\n",
       "<title>2678436374272</title>\n",
       "<polygon fill=\"lightgrey\" stroke=\"black\" points=\"101,-306 0,-306 0,-287 101,-287 101,-306\"/>\n",
       "<text text-anchor=\"middle\" x=\"50.5\" y=\"-294\" font-family=\"monospace\" font-size=\"10.00\">AccumulateGrad</text>\n",
       "</g>\n",
       "<!-- 2678436374272&#45;&gt;2678436374464 -->\n",
       "<g id=\"edge4\" class=\"edge\">\n",
       "<title>2678436374272&#45;&gt;2678436374464</title>\n",
       "<path fill=\"none\" stroke=\"black\" d=\"M50.5,-286.75C50.5,-279.8 50.5,-269.85 50.5,-261.13\"/>\n",
       "<polygon fill=\"black\" stroke=\"black\" points=\"54,-261.09 50.5,-251.09 47,-261.09 54,-261.09\"/>\n",
       "</g>\n",
       "<!-- 2678388379952 -->\n",
       "<g id=\"node7\" class=\"node\">\n",
       "<title>2678388379952</title>\n",
       "<polygon fill=\"lightblue\" stroke=\"black\" points=\"77.5,-372 23.5,-372 23.5,-342 77.5,-342 77.5,-372\"/>\n",
       "<text text-anchor=\"middle\" x=\"50.5\" y=\"-360\" font-family=\"monospace\" font-size=\"10.00\">x</text>\n",
       "<text text-anchor=\"middle\" x=\"50.5\" y=\"-349\" font-family=\"monospace\" font-size=\"10.00\"> (17)</text>\n",
       "</g>\n",
       "<!-- 2678388379952&#45;&gt;2678436374272 -->\n",
       "<g id=\"edge5\" class=\"edge\">\n",
       "<title>2678388379952&#45;&gt;2678436374272</title>\n",
       "<path fill=\"none\" stroke=\"black\" d=\"M50.5,-341.84C50.5,-334.21 50.5,-324.7 50.5,-316.45\"/>\n",
       "<polygon fill=\"black\" stroke=\"black\" points=\"54,-316.27 50.5,-306.27 47,-316.27 54,-316.27\"/>\n",
       "</g>\n",
       "</g>\n",
       "</svg>\n"
      ],
      "text/plain": [
       "<graphviz.graphs.Digraph at 0x26f9f3fa490>"
      ]
     },
     "metadata": {},
     "output_type": "display_data"
    },
    {
     "data": {
      "text/plain": [
       "'ex02-23.tif'"
      ]
     },
     "execution_count": 29,
     "metadata": {},
     "output_type": "execute_result"
    }
   ],
   "source": [
    "# (3) 計算グラフの可視化\n",
    "\n",
    "# 必要ライブラリのインポート\n",
    "from torchviz import make_dot\n",
    "\n",
    "# 可視化関数の呼び出し\n",
    "g= make_dot(z, params={'x': x})\n",
    "display(g)\n",
    "g.render('ex02-23', format='tif')"
   ]
  },
  {
   "cell_type": "code",
   "execution_count": 30,
   "metadata": {},
   "outputs": [],
   "source": [
    "!dot -Ttif -Gdpi=300 ex02-23 -o ex02-23_large.tif"
   ]
  },
  {
   "cell_type": "code",
   "execution_count": 31,
   "metadata": {
    "id": "Cugbjt5WNr_n"
   },
   "outputs": [],
   "source": [
    "# (4) 勾配計算\n",
    "\n",
    "z.backward()"
   ]
  },
  {
   "cell_type": "code",
   "execution_count": 32,
   "metadata": {
    "id": "Po4-vTPPNr_n"
   },
   "outputs": [
    {
     "name": "stdout",
     "output_type": "stream",
     "text": [
      "tensor([-8., -7., -6., -5., -4., -3., -2., -1.,  0.,  1.,  2.,  3.,  4.,  5.,\n",
      "         6.,  7.,  8.])\n"
     ]
    }
   ],
   "source": [
    "# (5) 勾配値の取得\n",
    "\n",
    "print(x.grad)"
   ]
  },
  {
   "cell_type": "code",
   "execution_count": 33,
   "metadata": {
    "id": "ZaZ5KFSINr_o"
   },
   "outputs": [
    {
     "data": {
      "image/png": "[encoded data removed]",
      "text/plain": [
       "<Figure size 432x432 with 1 Axes>"
      ]
     },
     "metadata": {
      "needs_background": "light"
     },
     "output_type": "display_data"
    }
   ],
   "source": [
    "# 元の関数と勾配のグラフ化\n",
    "fig1 = plt.gcf()\n",
    "plt.plot(x.data, y.data, c='b', label='y')\n",
    "plt.plot(x.data, x.grad.data, c='k', label='y.grad')\n",
    "plt.legend()\n",
    "plt.show()\n",
    "fig1.savefig('ex02-26.tif', format='tif', dpi=300)"
   ]
  },
  {
   "cell_type": "markdown",
   "metadata": {
    "id": "m5VKJUI0Nr_o"
   },
   "source": [
    "元の関数が2次関数なので、勾配計算の結果が直線になるのは、妥当な結果"
   ]
  },
  {
   "cell_type": "markdown",
   "metadata": {
    "id": "nrBbdRIvNr_o"
   },
   "source": [
    "ここでもう一度勾配計算をしてみる。"
   ]
  },
  {
   "cell_type": "code",
   "execution_count": 34,
   "metadata": {
    "id": "dOHxzxi0Nr_o"
   },
   "outputs": [
    {
     "name": "stdout",
     "output_type": "stream",
     "text": [
      "tensor([-16., -14., -12., -10.,  -8.,  -6.,  -4.,  -2.,   0.,   2.,   4.,   6.,\n",
      "          8.,  10.,  12.,  14.,  16.])\n"
     ]
    }
   ],
   "source": [
    "# 勾配の初期化せずに２度目の勾配計算\n",
    "\n",
    "y = 2 * x**2 + 2\n",
    "z = y.sum()\n",
    "z.backward()\n",
    "\n",
    "# xの勾配確認\n",
    "print(x.grad)"
   ]
  },
  {
   "cell_type": "markdown",
   "metadata": {
    "id": "MFsyjUPXNr_o"
   },
   "source": [
    "勾配値は、勾配計算の結果がどんどん加算されてしまう。そのため新しい値を計算したい場合、勾配値のリセットが必要。"
   ]
  },
  {
   "cell_type": "code",
   "execution_count": 35,
   "metadata": {
    "id": "FURKt3aENr_p"
   },
   "outputs": [
    {
     "name": "stdout",
     "output_type": "stream",
     "text": [
      "tensor([0., 0., 0., 0., 0., 0., 0., 0., 0., 0., 0., 0., 0., 0., 0., 0., 0.])\n"
     ]
    }
   ],
   "source": [
    "# (6) 勾配の初期化は関数 zero_()を使う\n",
    "\n",
    "x.grad.zero_()\n",
    "print(x.grad)"
   ]
  },
  {
   "cell_type": "markdown",
   "metadata": {
    "id": "F-TnTbjtNr_p"
   },
   "source": [
    "## 2.5 シグモイド関数の勾配計算"
   ]
  },
  {
   "cell_type": "markdown",
   "metadata": {
    "id": "rCQYN3jGNr_p"
   },
   "source": [
    "シグモイド関数は数式で表すと次の形になるが今回はPyTorchで提供されている関数を利用する  \n",
    "$ y = \\dfrac{1}{1 + \\exp{(-x)}} $"
   ]
  },
  {
   "cell_type": "code",
   "execution_count": 36,
   "metadata": {
    "id": "sl8mxsr7Nr_p"
   },
   "outputs": [],
   "source": [
    "# シグモイド関数の定義\n",
    "sigmoid = torch.nn.Sigmoid()"
   ]
  },
  {
   "cell_type": "code",
   "execution_count": 37,
   "metadata": {
    "id": "tT7wMVDuNr_p"
   },
   "outputs": [],
   "source": [
    "# (2) yの値の計算\n",
    "\n",
    "y = sigmoid(x)"
   ]
  },
  {
   "cell_type": "code",
   "execution_count": 38,
   "metadata": {
    "id": "ssP2qjhGNr_p"
   },
   "outputs": [
    {
     "data": {
      "image/png": "[encoded data removed]",
      "text/plain": [
       "<Figure size 432x432 with 1 Axes>"
      ]
     },
     "metadata": {
      "needs_background": "light"
     },
     "output_type": "display_data"
    }
   ],
   "source": [
    "# グラフ(散布図)描画\n",
    "\n",
    "fig1 = plt.gcf()\n",
    "plt.plot(x.data, y.data)\n",
    "plt.show()\n",
    "fig1.savefig('ex02-31.tif', format='tif', dpi=300)"
   ]
  },
  {
   "cell_type": "code",
   "execution_count": 39,
   "metadata": {
    "id": "XMXYmt8WNr_q"
   },
   "outputs": [],
   "source": [
    "# 勾配計算のためには、最終値はスカラーの必要があるため、ダミーでsum関数をかける\n",
    "\n",
    "z = y.sum()"
   ]
  },
  {
   "cell_type": "code",
   "execution_count": 40,
   "metadata": {
    "id": "w3H-6V13Nr_q"
   },
   "outputs": [
    {
     "data": {
      "image/svg+xml": [
       "<?xml version=\"1.0\" encoding=\"UTF-8\" standalone=\"no\"?>\n",
       "<!DOCTYPE svg PUBLIC \"-//W3C//DTD SVG 1.1//EN\"\n",
       " \"http://www.w3.org/Graphics/SVG/1.1/DTD/svg11.dtd\">\n",
       "<!-- Generated by graphviz version 2.50.0 (20211204.2007)\n",
       " -->\n",
       "<!-- Pages: 1 -->\n",
       "<svg width=\"121pt\" height=\"270pt\"\n",
       " viewBox=\"0.00 0.00 121.00 270.00\" xmlns=\"http://www.w3.org/2000/svg\" xmlns:xlink=\"http://www.w3.org/1999/xlink\">\n",
       "<g id=\"graph0\" class=\"graph\" transform=\"scale(1 1) rotate(0) translate(4 266)\">\n",
       "<polygon fill=\"white\" stroke=\"transparent\" points=\"-4,4 -4,-266 117,-266 117,4 -4,4\"/>\n",
       "<!-- 2678450469120 -->\n",
       "<g id=\"node1\" class=\"node\">\n",
       "<title>2678450469120</title>\n",
       "<polygon fill=\"#caff70\" stroke=\"black\" points=\"83.5,-31 29.5,-31 29.5,0 83.5,0 83.5,-31\"/>\n",
       "<text text-anchor=\"middle\" x=\"56.5\" y=\"-7\" font-family=\"monospace\" font-size=\"10.00\"> ()</text>\n",
       "</g>\n",
       "<!-- 2678450358592 -->\n",
       "<g id=\"node2\" class=\"node\">\n",
       "<title>2678450358592</title>\n",
       "<polygon fill=\"lightgrey\" stroke=\"black\" points=\"101,-86 12,-86 12,-67 101,-67 101,-86\"/>\n",
       "<text text-anchor=\"middle\" x=\"56.5\" y=\"-74\" font-family=\"monospace\" font-size=\"10.00\">SumBackward0</text>\n",
       "</g>\n",
       "<!-- 2678450358592&#45;&gt;2678450469120 -->\n",
       "<g id=\"edge4\" class=\"edge\">\n",
       "<title>2678450358592&#45;&gt;2678450469120</title>\n",
       "<path fill=\"none\" stroke=\"black\" d=\"M56.5,-66.79C56.5,-60.07 56.5,-50.4 56.5,-41.34\"/>\n",
       "<polygon fill=\"black\" stroke=\"black\" points=\"60,-41.19 56.5,-31.19 53,-41.19 60,-41.19\"/>\n",
       "</g>\n",
       "<!-- 2678450356672 -->\n",
       "<g id=\"node3\" class=\"node\">\n",
       "<title>2678450356672</title>\n",
       "<polygon fill=\"lightgrey\" stroke=\"black\" points=\"113,-141 0,-141 0,-122 113,-122 113,-141\"/>\n",
       "<text text-anchor=\"middle\" x=\"56.5\" y=\"-129\" font-family=\"monospace\" font-size=\"10.00\">SigmoidBackward0</text>\n",
       "</g>\n",
       "<!-- 2678450356672&#45;&gt;2678450358592 -->\n",
       "<g id=\"edge1\" class=\"edge\">\n",
       "<title>2678450356672&#45;&gt;2678450358592</title>\n",
       "<path fill=\"none\" stroke=\"black\" d=\"M56.5,-121.75C56.5,-114.8 56.5,-104.85 56.5,-96.13\"/>\n",
       "<polygon fill=\"black\" stroke=\"black\" points=\"60,-96.09 56.5,-86.09 53,-96.09 60,-96.09\"/>\n",
       "</g>\n",
       "<!-- 2678450358352 -->\n",
       "<g id=\"node4\" class=\"node\">\n",
       "<title>2678450358352</title>\n",
       "<polygon fill=\"lightgrey\" stroke=\"black\" points=\"107,-196 6,-196 6,-177 107,-177 107,-196\"/>\n",
       "<text text-anchor=\"middle\" x=\"56.5\" y=\"-184\" font-family=\"monospace\" font-size=\"10.00\">AccumulateGrad</text>\n",
       "</g>\n",
       "<!-- 2678450358352&#45;&gt;2678450356672 -->\n",
       "<g id=\"edge2\" class=\"edge\">\n",
       "<title>2678450358352&#45;&gt;2678450356672</title>\n",
       "<path fill=\"none\" stroke=\"black\" d=\"M56.5,-176.75C56.5,-169.8 56.5,-159.85 56.5,-151.13\"/>\n",
       "<polygon fill=\"black\" stroke=\"black\" points=\"60,-151.09 56.5,-141.09 53,-151.09 60,-151.09\"/>\n",
       "</g>\n",
       "<!-- 2678388379952 -->\n",
       "<g id=\"node5\" class=\"node\">\n",
       "<title>2678388379952</title>\n",
       "<polygon fill=\"lightblue\" stroke=\"black\" points=\"83.5,-262 29.5,-262 29.5,-232 83.5,-232 83.5,-262\"/>\n",
       "<text text-anchor=\"middle\" x=\"56.5\" y=\"-250\" font-family=\"monospace\" font-size=\"10.00\">x</text>\n",
       "<text text-anchor=\"middle\" x=\"56.5\" y=\"-239\" font-family=\"monospace\" font-size=\"10.00\"> (17)</text>\n",
       "</g>\n",
       "<!-- 2678388379952&#45;&gt;2678450358352 -->\n",
       "<g id=\"edge3\" class=\"edge\">\n",
       "<title>2678388379952&#45;&gt;2678450358352</title>\n",
       "<path fill=\"none\" stroke=\"black\" d=\"M56.5,-231.84C56.5,-224.21 56.5,-214.7 56.5,-206.45\"/>\n",
       "<polygon fill=\"black\" stroke=\"black\" points=\"60,-206.27 56.5,-196.27 53,-206.27 60,-206.27\"/>\n",
       "</g>\n",
       "</g>\n",
       "</svg>\n"
      ],
      "text/plain": [
       "<graphviz.graphs.Digraph at 0x26f9f3fa790>"
      ]
     },
     "metadata": {},
     "output_type": "display_data"
    },
    {
     "data": {
      "text/plain": [
       "'ex02-33.tif'"
      ]
     },
     "execution_count": 40,
     "metadata": {},
     "output_type": "execute_result"
    }
   ],
   "source": [
    "# (3) 計算グラフの可視化\n",
    "\n",
    "g = make_dot(z, params={'x': x})\n",
    "display(g)\n",
    "g.render('ex02-33', format='tif')"
   ]
  },
  {
   "cell_type": "code",
   "execution_count": 41,
   "metadata": {},
   "outputs": [],
   "source": [
    "!dot -Ttif -Gdpi=300 ex02-33 -o ex02-33_large.tif"
   ]
  },
  {
   "cell_type": "code",
   "execution_count": 42,
   "metadata": {
    "id": "zNpm70XeNr_q"
   },
   "outputs": [
    {
     "name": "stdout",
     "output_type": "stream",
     "text": [
      "tensor([0.1050, 0.1261, 0.1491, 0.1731, 0.1966, 0.2179, 0.2350, 0.2461, 0.2500,\n",
      "        0.2461, 0.2350, 0.2179, 0.1966, 0.1731, 0.1491, 0.1261, 0.1050])\n"
     ]
    }
   ],
   "source": [
    "# (4) 勾配計算\n",
    "z.backward()\n",
    "\n",
    "# (5) 勾配値の確認\n",
    "print(x.grad)"
   ]
  },
  {
   "cell_type": "code",
   "execution_count": 43,
   "metadata": {
    "id": "cyt_foUvNr_q"
   },
   "outputs": [
    {
     "data": {
      "image/png": "[encoded data removed]",
      "text/plain": [
       "<Figure size 432x432 with 1 Axes>"
      ]
     },
     "metadata": {
      "needs_background": "light"
     },
     "output_type": "display_data"
    }
   ],
   "source": [
    "# 元の関数と勾配のグラフ化\n",
    "\n",
    "fig1 = plt.gcf()\n",
    "plt.plot(x.data, y.data, c='b', label='y')\n",
    "plt.plot(x.data, x.grad.data, c='k', label='y.grad')\n",
    "plt.legend()\n",
    "plt.show()\n",
    "fig1.savefig('ex02-35.tif', format='tif', dpi=300)"
   ]
  },
  {
   "cell_type": "markdown",
   "metadata": {
    "id": "0kLX9BV9Nr_q"
   },
   "source": [
    "シグモイド関数の勾配は、$y(1-y)$になる。  \n",
    "2次関数なので、$y=\\dfrac{1}{2}$の時(x=0の時)最大値$\\dfrac{1}{4}$を取る。  \n",
    "上のグラフは、この計算結果と一致している。  "
   ]
  },
  {
   "cell_type": "code",
   "execution_count": 44,
   "metadata": {
    "id": "d6lbqTXUNr_q"
   },
   "outputs": [
    {
     "name": "stdout",
     "output_type": "stream",
     "text": [
      "tensor([0., 0., 0., 0., 0., 0., 0., 0., 0., 0., 0., 0., 0., 0., 0., 0., 0.])\n"
     ]
    }
   ],
   "source": [
    "# (6) 勾配の初期化は関数 zero_()を使う\n",
    "\n",
    "x.grad.zero_()\n",
    "print(x.grad)"
   ]
  },
  {
   "cell_type": "markdown",
   "metadata": {
    "id": "7tGBthh4Nr_r"
   },
   "source": [
    "### (参考)シグモイド関数を独自に実装した場合"
   ]
  },
  {
   "cell_type": "code",
   "execution_count": 45,
   "metadata": {
    "id": "Uofxv02YNr_r"
   },
   "outputs": [],
   "source": [
    "# シグモイド関数の定義\n",
    "\n",
    "def sigmoid(x):\n",
    "    return(1/(1 + torch.exp(-x)))"
   ]
  },
  {
   "cell_type": "code",
   "execution_count": 46,
   "metadata": {
    "id": "1A2ozRy4Nr_r"
   },
   "outputs": [],
   "source": [
    "# (2) yの値の計算\n",
    "\n",
    "y = sigmoid(x)"
   ]
  },
  {
   "cell_type": "code",
   "execution_count": 47,
   "metadata": {
    "id": "vaCaLvR5Nr_r"
   },
   "outputs": [
    {
     "data": {
      "image/png": "[encoded data removed]",
      "text/plain": [
       "<Figure size 432x432 with 1 Axes>"
      ]
     },
     "metadata": {
      "needs_background": "light"
     },
     "output_type": "display_data"
    }
   ],
   "source": [
    "# グラフ(散布図)描画\n",
    "\n",
    "fig1 = plt.gcf()\n",
    "plt.plot(x.data, y.data)\n",
    "plt.xlabel('x')\n",
    "plt.ylabel('y')\n",
    "plt.title('シグモイド関数のグラフ')\n",
    "plt.show()"
   ]
  },
  {
   "cell_type": "code",
   "execution_count": 48,
   "metadata": {
    "id": "8HAx2pNbNr_r"
   },
   "outputs": [],
   "source": [
    "# 勾配計算のためには、最終値はスカラーの必要があるため、ダミーでsum関数をかける\n",
    "\n",
    "z = y.sum()"
   ]
  },
  {
   "cell_type": "code",
   "execution_count": 49,
   "metadata": {
    "id": "m6FR7tA1Nr_r"
   },
   "outputs": [
    {
     "data": {
      "image/svg+xml": [
       "<?xml version=\"1.0\" encoding=\"UTF-8\" standalone=\"no\"?>\n",
       "<!DOCTYPE svg PUBLIC \"-//W3C//DTD SVG 1.1//EN\"\n",
       " \"http://www.w3.org/Graphics/SVG/1.1/DTD/svg11.dtd\">\n",
       "<!-- Generated by graphviz version 2.50.0 (20211204.2007)\n",
       " -->\n",
       "<!-- Pages: 1 -->\n",
       "<svg width=\"139pt\" height=\"490pt\"\n",
       " viewBox=\"0.00 0.00 139.00 490.00\" xmlns=\"http://www.w3.org/2000/svg\" xmlns:xlink=\"http://www.w3.org/1999/xlink\">\n",
       "<g id=\"graph0\" class=\"graph\" transform=\"scale(1 1) rotate(0) translate(4 486)\">\n",
       "<polygon fill=\"white\" stroke=\"transparent\" points=\"-4,4 -4,-486 135,-486 135,4 -4,4\"/>\n",
       "<!-- 2678436371328 -->\n",
       "<g id=\"node1\" class=\"node\">\n",
       "<title>2678436371328</title>\n",
       "<polygon fill=\"#caff70\" stroke=\"black\" points=\"92.5,-31 38.5,-31 38.5,0 92.5,0 92.5,-31\"/>\n",
       "<text text-anchor=\"middle\" x=\"65.5\" y=\"-7\" font-family=\"monospace\" font-size=\"10.00\"> ()</text>\n",
       "</g>\n",
       "<!-- 2678379546032 -->\n",
       "<g id=\"node2\" class=\"node\">\n",
       "<title>2678379546032</title>\n",
       "<polygon fill=\"lightgrey\" stroke=\"black\" points=\"110,-86 21,-86 21,-67 110,-67 110,-86\"/>\n",
       "<text text-anchor=\"middle\" x=\"65.5\" y=\"-74\" font-family=\"monospace\" font-size=\"10.00\">SumBackward0</text>\n",
       "</g>\n",
       "<!-- 2678379546032&#45;&gt;2678436371328 -->\n",
       "<g id=\"edge8\" class=\"edge\">\n",
       "<title>2678379546032&#45;&gt;2678436371328</title>\n",
       "<path fill=\"none\" stroke=\"black\" d=\"M65.5,-66.79C65.5,-60.07 65.5,-50.4 65.5,-41.34\"/>\n",
       "<polygon fill=\"black\" stroke=\"black\" points=\"69,-41.19 65.5,-31.19 62,-41.19 69,-41.19\"/>\n",
       "</g>\n",
       "<!-- 2678379544640 -->\n",
       "<g id=\"node3\" class=\"node\">\n",
       "<title>2678379544640</title>\n",
       "<polygon fill=\"lightgrey\" stroke=\"black\" points=\"110,-141 21,-141 21,-122 110,-122 110,-141\"/>\n",
       "<text text-anchor=\"middle\" x=\"65.5\" y=\"-129\" font-family=\"monospace\" font-size=\"10.00\">MulBackward0</text>\n",
       "</g>\n",
       "<!-- 2678379544640&#45;&gt;2678379546032 -->\n",
       "<g id=\"edge1\" class=\"edge\">\n",
       "<title>2678379544640&#45;&gt;2678379546032</title>\n",
       "<path fill=\"none\" stroke=\"black\" d=\"M65.5,-121.75C65.5,-114.8 65.5,-104.85 65.5,-96.13\"/>\n",
       "<polygon fill=\"black\" stroke=\"black\" points=\"69,-96.09 65.5,-86.09 62,-96.09 69,-96.09\"/>\n",
       "</g>\n",
       "<!-- 2678436413744 -->\n",
       "<g id=\"node4\" class=\"node\">\n",
       "<title>2678436413744</title>\n",
       "<polygon fill=\"lightgrey\" stroke=\"black\" points=\"131,-196 0,-196 0,-177 131,-177 131,-196\"/>\n",
       "<text text-anchor=\"middle\" x=\"65.5\" y=\"-184\" font-family=\"monospace\" font-size=\"10.00\">ReciprocalBackward0</text>\n",
       "</g>\n",
       "<!-- 2678436413744&#45;&gt;2678379544640 -->\n",
       "<g id=\"edge2\" class=\"edge\">\n",
       "<title>2678436413744&#45;&gt;2678379544640</title>\n",
       "<path fill=\"none\" stroke=\"black\" d=\"M65.5,-176.75C65.5,-169.8 65.5,-159.85 65.5,-151.13\"/>\n",
       "<polygon fill=\"black\" stroke=\"black\" points=\"69,-151.09 65.5,-141.09 62,-151.09 69,-151.09\"/>\n",
       "</g>\n",
       "<!-- 2678360942192 -->\n",
       "<g id=\"node5\" class=\"node\">\n",
       "<title>2678360942192</title>\n",
       "<polygon fill=\"lightgrey\" stroke=\"black\" points=\"110,-251 21,-251 21,-232 110,-232 110,-251\"/>\n",
       "<text text-anchor=\"middle\" x=\"65.5\" y=\"-239\" font-family=\"monospace\" font-size=\"10.00\">AddBackward0</text>\n",
       "</g>\n",
       "<!-- 2678360942192&#45;&gt;2678436413744 -->\n",
       "<g id=\"edge3\" class=\"edge\">\n",
       "<title>2678360942192&#45;&gt;2678436413744</title>\n",
       "<path fill=\"none\" stroke=\"black\" d=\"M65.5,-231.75C65.5,-224.8 65.5,-214.85 65.5,-206.13\"/>\n",
       "<polygon fill=\"black\" stroke=\"black\" points=\"69,-206.09 65.5,-196.09 62,-206.09 69,-206.09\"/>\n",
       "</g>\n",
       "<!-- 2678464001408 -->\n",
       "<g id=\"node6\" class=\"node\">\n",
       "<title>2678464001408</title>\n",
       "<polygon fill=\"lightgrey\" stroke=\"black\" points=\"110,-306 21,-306 21,-287 110,-287 110,-306\"/>\n",
       "<text text-anchor=\"middle\" x=\"65.5\" y=\"-294\" font-family=\"monospace\" font-size=\"10.00\">ExpBackward0</text>\n",
       "</g>\n",
       "<!-- 2678464001408&#45;&gt;2678360942192 -->\n",
       "<g id=\"edge4\" class=\"edge\">\n",
       "<title>2678464001408&#45;&gt;2678360942192</title>\n",
       "<path fill=\"none\" stroke=\"black\" d=\"M65.5,-286.75C65.5,-279.8 65.5,-269.85 65.5,-261.13\"/>\n",
       "<polygon fill=\"black\" stroke=\"black\" points=\"69,-261.09 65.5,-251.09 62,-261.09 69,-261.09\"/>\n",
       "</g>\n",
       "<!-- 2678464035376 -->\n",
       "<g id=\"node7\" class=\"node\">\n",
       "<title>2678464035376</title>\n",
       "<polygon fill=\"lightgrey\" stroke=\"black\" points=\"110,-361 21,-361 21,-342 110,-342 110,-361\"/>\n",
       "<text text-anchor=\"middle\" x=\"65.5\" y=\"-349\" font-family=\"monospace\" font-size=\"10.00\">NegBackward0</text>\n",
       "</g>\n",
       "<!-- 2678464035376&#45;&gt;2678464001408 -->\n",
       "<g id=\"edge5\" class=\"edge\">\n",
       "<title>2678464035376&#45;&gt;2678464001408</title>\n",
       "<path fill=\"none\" stroke=\"black\" d=\"M65.5,-341.75C65.5,-334.8 65.5,-324.85 65.5,-316.13\"/>\n",
       "<polygon fill=\"black\" stroke=\"black\" points=\"69,-316.09 65.5,-306.09 62,-316.09 69,-316.09\"/>\n",
       "</g>\n",
       "<!-- 2678464034464 -->\n",
       "<g id=\"node8\" class=\"node\">\n",
       "<title>2678464034464</title>\n",
       "<polygon fill=\"lightgrey\" stroke=\"black\" points=\"116,-416 15,-416 15,-397 116,-397 116,-416\"/>\n",
       "<text text-anchor=\"middle\" x=\"65.5\" y=\"-404\" font-family=\"monospace\" font-size=\"10.00\">AccumulateGrad</text>\n",
       "</g>\n",
       "<!-- 2678464034464&#45;&gt;2678464035376 -->\n",
       "<g id=\"edge6\" class=\"edge\">\n",
       "<title>2678464034464&#45;&gt;2678464035376</title>\n",
       "<path fill=\"none\" stroke=\"black\" d=\"M65.5,-396.75C65.5,-389.8 65.5,-379.85 65.5,-371.13\"/>\n",
       "<polygon fill=\"black\" stroke=\"black\" points=\"69,-371.09 65.5,-361.09 62,-371.09 69,-371.09\"/>\n",
       "</g>\n",
       "<!-- 2678388379952 -->\n",
       "<g id=\"node9\" class=\"node\">\n",
       "<title>2678388379952</title>\n",
       "<polygon fill=\"lightblue\" stroke=\"black\" points=\"92.5,-482 38.5,-482 38.5,-452 92.5,-452 92.5,-482\"/>\n",
       "<text text-anchor=\"middle\" x=\"65.5\" y=\"-470\" font-family=\"monospace\" font-size=\"10.00\">x</text>\n",
       "<text text-anchor=\"middle\" x=\"65.5\" y=\"-459\" font-family=\"monospace\" font-size=\"10.00\"> (17)</text>\n",
       "</g>\n",
       "<!-- 2678388379952&#45;&gt;2678464034464 -->\n",
       "<g id=\"edge7\" class=\"edge\">\n",
       "<title>2678388379952&#45;&gt;2678464034464</title>\n",
       "<path fill=\"none\" stroke=\"black\" d=\"M65.5,-451.84C65.5,-444.21 65.5,-434.7 65.5,-426.45\"/>\n",
       "<polygon fill=\"black\" stroke=\"black\" points=\"69,-426.27 65.5,-416.27 62,-426.27 69,-426.27\"/>\n",
       "</g>\n",
       "</g>\n",
       "</svg>\n"
      ],
      "text/plain": [
       "<graphviz.graphs.Digraph at 0x26f9ac13070>"
      ]
     },
     "metadata": {},
     "output_type": "display_data"
    }
   ],
   "source": [
    "# (3) 計算グラフの可視化\n",
    "\n",
    "params = {'x': x}\n",
    "g = make_dot(z, params=params)\n",
    "display(g)"
   ]
  },
  {
   "cell_type": "code",
   "execution_count": 50,
   "metadata": {
    "id": "9nHpZIC3Nr_s"
   },
   "outputs": [
    {
     "name": "stdout",
     "output_type": "stream",
     "text": [
      "tensor([0.1050, 0.1261, 0.1491, 0.1731, 0.1966, 0.2179, 0.2350, 0.2461, 0.2500,\n",
      "        0.2461, 0.2350, 0.2179, 0.1966, 0.1731, 0.1491, 0.1261, 0.1050])\n"
     ]
    }
   ],
   "source": [
    "# (4) 勾配計算\n",
    "z.backward()\n",
    "\n",
    "# (5) 勾配値の確認\n",
    "print(x.grad)"
   ]
  },
  {
   "cell_type": "code",
   "execution_count": 51,
   "metadata": {
    "id": "ip_6cFLmNr_s"
   },
   "outputs": [
    {
     "data": {
      "image/png": "[encoded data removed]",
      "text/plain": [
       "<Figure size 432x432 with 1 Axes>"
      ]
     },
     "metadata": {
      "needs_background": "light"
     },
     "output_type": "display_data"
    }
   ],
   "source": [
    "# 元の関数と勾配のグラフ化\n",
    "\n",
    "plt.plot(x.data, y.data, c='b', label='y')\n",
    "plt.plot(x.data, x.grad.data, c='k', label='y.grad')\n",
    "plt.legend()\n",
    "plt.show()"
   ]
  },
  {
   "cell_type": "code",
   "execution_count": null,
   "metadata": {
    "id": "t-hoxTV7Nr_s"
   },
   "outputs": [],
   "source": []
  }
 ],
 "metadata": {
  "colab": {
   "collapsed_sections": [],
   "name": "ch02_pytorch.ipynb",
   "provenance": [],
   "toc_visible": true
  },
  "kernelspec": {
   "display_name": "Python 3 (ipykernel)",
   "language": "python",
   "name": "python3"
  },
  "language_info": {
   "codemirror_mode": {
    "name": "ipython",
    "version": 3
   },
   "file_extension": ".py",
   "mimetype": "text/x-python",
   "name": "python",
   "nbconvert_exporter": "python",
   "pygments_lexer": "ipython3",
   "version": "3.9.7"
  }
 },
 "nbformat": 4,
 "nbformat_minor": 1
}
