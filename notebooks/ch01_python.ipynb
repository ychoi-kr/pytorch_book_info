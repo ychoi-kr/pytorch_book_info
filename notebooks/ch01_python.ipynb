{
 "cells": [
  {
   "cell_type": "markdown",
   "metadata": {
    "colab_type": "text",
    "id": "view-in-github"
   },
   "source": [
    "<a href=\"https://colab.research.google.com/github/ychoi-kr/pytorch_book_info/blob/main/notebooks/ch01_python.ipynb\" target=\"_parent\"><img src=\"https://colab.research.google.com/assets/colab-badge.svg\" alt=\"Open In Colab\"/></a>"
   ]
  },
  {
   "cell_type": "markdown",
   "metadata": {
    "id": "yoLOS2ohPSo-"
   },
   "source": [
    "# 1장 Python 입문\n",
    "PyTorchを使ったディープラーニング・プログラミングで重要になる概念だけを抜き出して説明する"
   ]
  },
  {
   "cell_type": "code",
   "execution_count": 1,
   "metadata": {
    "colab": {
     "base_uri": "https://localhost:8080/"
    },
    "id": "eg2s3K8OPSpD",
    "outputId": "e3efe2a0-fb7d-45a8-dbf0-43289bed6ddb"
   },
   "outputs": [
    {
     "name": "stderr",
     "output_type": "stream",
     "text": [
      "'tail'은(는) 내부 또는 외부 명령, 실행할 수 있는 프로그램, 또는\n",
      "배치 파일이 아닙니다.\n"
     ]
    }
   ],
   "source": [
    "# 必要ライブラリの導入\n",
    "\n",
    "!pip install japanize_matplotlib | tail -n 1"
   ]
  },
  {
   "cell_type": "code",
   "execution_count": 2,
   "metadata": {},
   "outputs": [
    {
     "name": "stdout",
     "output_type": "stream",
     "text": [
      "Requirement already satisfied: matplotlib in c:\\users\\yong\\anaconda3\\envs\\pytorch_book_info\\lib\\site-packages (3.5.1)\n",
      "Requirement already satisfied: pyparsing>=2.2.1 in c:\\users\\yong\\anaconda3\\envs\\pytorch_book_info\\lib\\site-packages (from matplotlib) (3.0.4)\n",
      "Requirement already satisfied: packaging>=20.0 in c:\\users\\yong\\anaconda3\\envs\\pytorch_book_info\\lib\\site-packages (from matplotlib) (21.3)\n",
      "Requirement already satisfied: python-dateutil>=2.7 in c:\\users\\yong\\anaconda3\\envs\\pytorch_book_info\\lib\\site-packages (from matplotlib) (2.8.2)\n",
      "Requirement already satisfied: pillow>=6.2.0 in c:\\users\\yong\\anaconda3\\envs\\pytorch_book_info\\lib\\site-packages (from matplotlib) (9.0.1)\n",
      "Requirement already satisfied: fonttools>=4.22.0 in c:\\users\\yong\\anaconda3\\envs\\pytorch_book_info\\lib\\site-packages (from matplotlib) (4.31.2)\n",
      "Requirement already satisfied: numpy>=1.17 in c:\\users\\yong\\anaconda3\\envs\\pytorch_book_info\\lib\\site-packages (from matplotlib) (1.22.3)\n",
      "Requirement already satisfied: cycler>=0.10 in c:\\users\\yong\\anaconda3\\envs\\pytorch_book_info\\lib\\site-packages (from matplotlib) (0.11.0)\n",
      "Requirement already satisfied: kiwisolver>=1.0.1 in c:\\users\\yong\\anaconda3\\envs\\pytorch_book_info\\lib\\site-packages (from matplotlib) (1.4.0)\n",
      "Requirement already satisfied: six>=1.5 in c:\\users\\yong\\anaconda3\\envs\\pytorch_book_info\\lib\\site-packages (from python-dateutil>=2.7->matplotlib) (1.16.0)\n",
      "Note: you may need to restart the kernel to use updated packages.\n"
     ]
    }
   ],
   "source": [
    "pip install matplotlib"
   ]
  },
  {
   "cell_type": "code",
   "execution_count": 3,
   "metadata": {},
   "outputs": [
    {
     "name": "stdout",
     "output_type": "stream",
     "text": [
      "Requirement already satisfied: japanize_matplotlib in c:\\users\\yong\\anaconda3\\envs\\pytorch_book_info\\lib\\site-packages (1.1.3)\n",
      "Requirement already satisfied: matplotlib in c:\\users\\yong\\anaconda3\\envs\\pytorch_book_info\\lib\\site-packages (from japanize_matplotlib) (3.5.1)\n",
      "Requirement already satisfied: pillow>=6.2.0 in c:\\users\\yong\\anaconda3\\envs\\pytorch_book_info\\lib\\site-packages (from matplotlib->japanize_matplotlib) (9.0.1)\n",
      "Requirement already satisfied: numpy>=1.17 in c:\\users\\yong\\anaconda3\\envs\\pytorch_book_info\\lib\\site-packages (from matplotlib->japanize_matplotlib) (1.22.3)\n",
      "Requirement already satisfied: cycler>=0.10 in c:\\users\\yong\\anaconda3\\envs\\pytorch_book_info\\lib\\site-packages (from matplotlib->japanize_matplotlib) (0.11.0)\n",
      "Requirement already satisfied: kiwisolver>=1.0.1 in c:\\users\\yong\\anaconda3\\envs\\pytorch_book_info\\lib\\site-packages (from matplotlib->japanize_matplotlib) (1.4.0)\n",
      "Requirement already satisfied: fonttools>=4.22.0 in c:\\users\\yong\\anaconda3\\envs\\pytorch_book_info\\lib\\site-packages (from matplotlib->japanize_matplotlib) (4.31.2)\n",
      "Requirement already satisfied: pyparsing>=2.2.1 in c:\\users\\yong\\anaconda3\\envs\\pytorch_book_info\\lib\\site-packages (from matplotlib->japanize_matplotlib) (3.0.4)\n",
      "Requirement already satisfied: python-dateutil>=2.7 in c:\\users\\yong\\anaconda3\\envs\\pytorch_book_info\\lib\\site-packages (from matplotlib->japanize_matplotlib) (2.8.2)\n",
      "Requirement already satisfied: packaging>=20.0 in c:\\users\\yong\\anaconda3\\envs\\pytorch_book_info\\lib\\site-packages (from matplotlib->japanize_matplotlib) (21.3)\n",
      "Requirement already satisfied: six>=1.5 in c:\\users\\yong\\anaconda3\\envs\\pytorch_book_info\\lib\\site-packages (from python-dateutil>=2.7->matplotlib->japanize_matplotlib) (1.16.0)\n",
      "Note: you may need to restart the kernel to use updated packages.\n"
     ]
    }
   ],
   "source": [
    "pip install japanize_matplotlib"
   ]
  },
  {
   "cell_type": "code",
   "execution_count": 4,
   "metadata": {
    "id": "zR8TJdQQPSpD"
   },
   "outputs": [],
   "source": [
    "# 必要ライブラリのインポート\n",
    "\n",
    "%matplotlib inline\n",
    "import numpy as np\n",
    "import matplotlib.pyplot as plt\n",
    "import japanize_matplotlib"
   ]
  },
  {
   "cell_type": "code",
   "execution_count": 5,
   "metadata": {
    "id": "ysxb8LzbPSpD"
   },
   "outputs": [],
   "source": [
    "# warning表示off\n",
    "import warnings\n",
    "warnings.simplefilter('ignore')\n",
    "\n",
    "# デフォルトフォントサイズ変更\n",
    "plt.rcParams['font.size'] = 14\n",
    "\n",
    "# デフォルトグラフサイズ変更\n",
    "plt.rcParams['figure.figsize'] = (6,6)\n",
    "\n",
    "# デフォルトで方眼表示ON\n",
    "plt.rcParams['axes.grid'] = True\n",
    "\n",
    "# numpyの表示桁数設定\n",
    "np.set_printoptions(suppress=True, precision=5)\n"
   ]
  },
  {
   "cell_type": "markdown",
   "metadata": {
    "id": "zvXRG-ruPSpE"
   },
   "source": [
    "## 1.2 컨테이너 타입 변수에 주의\n",
    "Pythonでは、変数は単に実際のデータ構造へのポインタに過ぎない。  \n",
    "Numpy配列などでは、このことを意識しないと思わぬ結果を招く場合がある。"
   ]
  },
  {
   "cell_type": "markdown",
   "metadata": {
    "id": "UvPbw0jYPSpE"
   },
   "source": [
    "### NumPy変数間"
   ]
  },
  {
   "cell_type": "code",
   "execution_count": 6,
   "metadata": {
    "colab": {
     "base_uri": "https://localhost:8080/"
    },
    "id": "mE8yGhNqPSpE",
    "outputId": "bd62ed2f-9e3f-4266-9ccc-2b7cd135340a"
   },
   "outputs": [
    {
     "name": "stdout",
     "output_type": "stream",
     "text": [
      "[5 7 9]\n",
      "[5 7 9]\n"
     ]
    }
   ],
   "source": [
    "# 넘파이 배열 x를 정의\n",
    "x = np.array([5, 7, 9])\n",
    "\n",
    "# 변수 y에 x를 대입\n",
    "y = x\n",
    "\n",
    "# 결과 확인\n",
    "print(x)\n",
    "print(y)"
   ]
  },
  {
   "cell_type": "code",
   "execution_count": 7,
   "metadata": {
    "colab": {
     "base_uri": "https://localhost:8080/"
    },
    "id": "hdmNhQOZPSpE",
    "outputId": "e44088e6-7fb0-4042-9e65-63d142d62e4b"
   },
   "outputs": [
    {
     "name": "stdout",
     "output_type": "stream",
     "text": [
      "[ 5 -1  9]\n",
      "[ 5 -1  9]\n"
     ]
    }
   ],
   "source": [
    "# x의 특정 요소를 변경\n",
    "x[1] = -1\n",
    "\n",
    "# y도 따라서 값이 바뀜\n",
    "print(x)\n",
    "print(y)"
   ]
  },
  {
   "cell_type": "code",
   "execution_count": 8,
   "metadata": {
    "colab": {
     "base_uri": "https://localhost:8080/"
    },
    "id": "l9H3CjJtPSpE",
    "outputId": "72122116-c041-48fa-9b78-ea5e0f0b9d2e"
   },
   "outputs": [
    {
     "name": "stdout",
     "output_type": "stream",
     "text": [
      "[ 5 -1  9]\n",
      "[5 7 9]\n"
     ]
    }
   ],
   "source": [
    "# y도 동시에 변하면 안 되는 경우는, 대입 시 copy 함수를 이용\n",
    "x = np.array([5, 7, 9])\n",
    "y = x.copy()\n",
    "\n",
    "# x의 특정 요소 값이 변해도, y에는 영향이 없음\n",
    "x[1] = -1\n",
    "print(x)\n",
    "print(y)"
   ]
  },
  {
   "cell_type": "markdown",
   "metadata": {
    "id": "6Xm1XIpBPSpE"
   },
   "source": [
    "### テンソルとNumPy間"
   ]
  },
  {
   "cell_type": "code",
   "execution_count": 9,
   "metadata": {
    "colab": {
     "base_uri": "https://localhost:8080/"
    },
    "id": "FPkiYCioPSpF",
    "outputId": "be9f2848-91cb-4f66-d251-bcc800f1b689"
   },
   "outputs": [
    {
     "name": "stdout",
     "output_type": "stream",
     "text": [
      "tensor([1., 1., 1., 1., 1.])\n",
      "[1. 1. 1. 1. 1.]\n"
     ]
    }
   ],
   "source": [
    "import torch\n",
    "\n",
    "# x1: shape=[5]가 되는 모든 값이 1인 텐서\n",
    "x1 = torch.ones(5)\n",
    "\n",
    "# 결과 확인\n",
    "print(x1)\n",
    "\n",
    "# x2: x1로부터 생성한 넘파이 배열\n",
    "x2 = x1.data.numpy()\n",
    "\n",
    "# 결과 확인\n",
    "print(x2)"
   ]
  },
  {
   "cell_type": "code",
   "execution_count": 10,
   "metadata": {
    "colab": {
     "base_uri": "https://localhost:8080/"
    },
    "id": "E-SoSD6qPSpF",
    "outputId": "9738b452-1014-4437-d1df-afe7364c7f6b"
   },
   "outputs": [
    {
     "name": "stdout",
     "output_type": "stream",
     "text": [
      "tensor([ 1., -1.,  1.,  1.,  1.])\n",
      "[ 1. -1.  1.  1.  1.]\n"
     ]
    }
   ],
   "source": [
    "# x1의 값을 변경\n",
    "x1[1] = -1\n",
    "\n",
    "# x2의 값도 같이 변함\n",
    "print(x1)\n",
    "print(x2)"
   ]
  },
  {
   "cell_type": "code",
   "execution_count": 11,
   "metadata": {
    "colab": {
     "base_uri": "https://localhost:8080/"
    },
    "id": "fLRAG-SLPSpF",
    "outputId": "da3f3187-ba3b-4de6-f94d-5d90f2ee617d"
   },
   "outputs": [
    {
     "name": "stdout",
     "output_type": "stream",
     "text": [
      "tensor([ 1., -1.,  1.,  1.,  1.])\n",
      "[1. 1. 1. 1. 1.]\n"
     ]
    }
   ],
   "source": [
    "# 안전한 방법\n",
    "\n",
    "# x1: 텐서\n",
    "x1 = torch.ones(5)\n",
    "\n",
    "# x2: x1를 copy한 넘파이\n",
    "x2 = x1.data.numpy().copy()\n",
    "\n",
    "x1[1] = -1\n",
    "\n",
    "# 결과 확인\n",
    "print(x1)\n",
    "print(x2)"
   ]
  },
  {
   "cell_type": "markdown",
   "metadata": {
    "id": "jAwsog3qPSpF"
   },
   "source": [
    "## 1.3\t‘합성 함수’를 파이썬으로 구현하기\n",
    "数学上の合成関数がPythonでどう実装されるか確認する"
   ]
  },
  {
   "cell_type": "markdown",
   "metadata": {
    "id": "LYchZiipPSpF"
   },
   "source": [
    "$f(x) = 2x^2 + 2$を関数として定義する"
   ]
  },
  {
   "cell_type": "code",
   "execution_count": 12,
   "metadata": {
    "id": "3CqF27_GPSpF"
   },
   "outputs": [],
   "source": [
    "def f(x):\n",
    "    return (2 * x**2 + 2)"
   ]
  },
  {
   "cell_type": "code",
   "execution_count": 13,
   "metadata": {
    "colab": {
     "base_uri": "https://localhost:8080/"
    },
    "id": "OiJN2YuVPSpF",
    "outputId": "e43c61fd-88f1-4ec6-96cf-65e4b2fed860"
   },
   "outputs": [
    {
     "name": "stdout",
     "output_type": "stream",
     "text": [
      "[-2.   -1.75 -1.5  -1.25 -1.   -0.75 -0.5  -0.25  0.    0.25  0.5   0.75\n",
      "  1.    1.25  1.5   1.75  2.  ]\n"
     ]
    }
   ],
   "source": [
    "# 넘파이 배열로 x를 정의\n",
    "x = np.arange(-2, 2.1, 0.25)\n",
    "print(x)"
   ]
  },
  {
   "cell_type": "code",
   "execution_count": 14,
   "metadata": {
    "colab": {
     "base_uri": "https://localhost:8080/"
    },
    "id": "WXTDLngzPSpG",
    "outputId": "ddea5a41-064f-48cf-83da-87f3b9426ea7"
   },
   "outputs": [
    {
     "name": "stdout",
     "output_type": "stream",
     "text": [
      "[10.     8.125  6.5    5.125  4.     3.125  2.5    2.125  2.     2.125\n",
      "  2.5    3.125  4.     5.125  6.5    8.125 10.   ]\n"
     ]
    }
   ],
   "source": [
    "# f(x)의 결과를 y에 대입\n",
    "y = f(x)\n",
    "print(y)"
   ]
  },
  {
   "cell_type": "code",
   "execution_count": 15,
   "metadata": {
    "colab": {
     "base_uri": "https://localhost:8080/",
     "height": 377
    },
    "id": "XzsseR8QPSpG",
    "outputId": "cac844c2-633a-4d74-efbc-eeb85ee7346a"
   },
   "outputs": [
    {
     "data": {
      "image/png": "[encoded data removed]",
      "text/plain": [
       "<Figure size 432x432 with 1 Axes>"
      ]
     },
     "metadata": {
      "needs_background": "light"
     },
     "output_type": "display_data"
    }
   ],
   "source": [
    "# 함수를 그래프로 그리기\n",
    "\n",
    "fig1 = plt.gcf()\n",
    "plt.plot(x, y)\n",
    "plt.show()\n",
    "fig1.savefig('ex01-09.tif', format='tif')"
   ]
  },
  {
   "cell_type": "code",
   "execution_count": 16,
   "metadata": {
    "id": "hwdDvlSKUa8W"
   },
   "outputs": [],
   "source": [
    "# 세 가지 기본 함수의 정의\n",
    "def f1(x):\n",
    "    return(x**2)\n",
    "\n",
    "def f2(x):\n",
    "    return(x*2)\n",
    "\n",
    "def f3(x):\n",
    "    return(x+2)\n",
    "\n",
    "# 합성 함수 만들기\n",
    "x1 = f1(x)\n",
    "x2 = f2(x1)\n",
    "y = f3(x2)"
   ]
  },
  {
   "cell_type": "code",
   "execution_count": 17,
   "metadata": {
    "colab": {
     "base_uri": "https://localhost:8080/"
    },
    "id": "fNUqcDqVUbGW",
    "outputId": "84ad3fe7-fe14-43af-b1f8-ae623641470f"
   },
   "outputs": [
    {
     "name": "stdout",
     "output_type": "stream",
     "text": [
      "[10.     8.125  6.5    5.125  4.     3.125  2.5    2.125  2.     2.125\n",
      "  2.5    3.125  4.     5.125  6.5    8.125 10.   ]\n"
     ]
    }
   ],
   "source": [
    "# 合成関数の値の確認\n",
    "print(y)"
   ]
  },
  {
   "cell_type": "code",
   "execution_count": 18,
   "metadata": {
    "colab": {
     "base_uri": "https://localhost:8080/",
     "height": 377
    },
    "id": "hqVCcelaUbKq",
    "outputId": "490f9bd4-f74f-41c0-db6e-c57c95defbd5"
   },
   "outputs": [
    {
     "data": {
      "image/png": "[encoded data removed]",
      "text/plain": [
       "<Figure size 432x432 with 1 Axes>"
      ]
     },
     "metadata": {
      "needs_background": "light"
     },
     "output_type": "display_data"
    }
   ],
   "source": [
    "# 合成関数のグラフ表示\n",
    "\n",
    "plt.plot(x, y)\n",
    "plt.show()"
   ]
  },
  {
   "cell_type": "markdown",
   "metadata": {
    "id": "NLsU5j_CTqRd"
   },
   "source": [
    "## 1.5\t커스텀 클래스 정의하기\n",
    "Pythonでは、関数もまた、変数名は単なるポインタで、実体は別にある。  \n",
    "このことを利用すると、「関数を引数とする関数」を作ることが可能になる。"
   ]
  },
  {
   "cell_type": "markdown",
   "metadata": {
    "id": "PEy0MMhvPSpG"
   },
   "source": [
    "ここで関数を数値微分する関数``diff``を定義する。  \n",
    "数値微分の計算には、普通の微分の定義式よりいい近似式である $f'(x) = \\dfrac{f(x+h)-f(x-h)}{2h}$を利用する。"
   ]
  },
  {
   "cell_type": "code",
   "execution_count": 19,
   "metadata": {
    "id": "DUk6vPjvlWgc"
   },
   "outputs": [],
   "source": [
    "# 함수를 미분하는 함수 fdiff의 정의\n",
    "def fdiff(f):\n",
    "    # 함수 f를 인수로 미분한 결과 함수를 diff 로 정의\n",
    "    def diff(x):\n",
    "        h = 1e-6\n",
    "        return (f(x+h) - f(x-h)) / (2*h)\n",
    "\n",
    "    # fdiff의 반환은 미분한 결과 함수 diff\n",
    "    return diff"
   ]
  },
  {
   "cell_type": "markdown",
   "metadata": {
    "id": "AwinTXaKrEpU"
   },
   "source": [
    "2次関数fに対して、今作った関数fdiffを適用して、数値微分計算をしてみる。"
   ]
  },
  {
   "cell_type": "code",
   "execution_count": 20,
   "metadata": {
    "colab": {
     "base_uri": "https://localhost:8080/"
    },
    "id": "CFUT1Mmslf4n",
    "outputId": "e37db375-2f52-4893-ef16-3719dc86a9f8"
   },
   "outputs": [
    {
     "name": "stdout",
     "output_type": "stream",
     "text": [
      "[-8. -7. -6. -5. -4. -3. -2. -1.  0.  1.  2.  3.  4.  5.  6.  7.  8.]\n"
     ]
    }
   ],
   "source": [
    "# 2차함수의 수치미분\n",
    "\n",
    "# f의 미분결과 함수 diff를 취득\n",
    "diff = fdiff(f)\n",
    "\n",
    "# 미분결과를 계산하고 y_dash에 대입\n",
    "y_dash = diff(x)\n",
    "\n",
    "# 결과 확인\n",
    "print(y_dash)"
   ]
  },
  {
   "cell_type": "code",
   "execution_count": 21,
   "metadata": {
    "colab": {
     "base_uri": "https://localhost:8080/",
     "height": 377
    },
    "id": "vQsqq3xlPSpG",
    "outputId": "13189d33-b434-4b99-bcec-ffe54e53c618"
   },
   "outputs": [
    {
     "data": {
      "image/png": "[encoded data removed]",
      "text/plain": [
       "<Figure size 432x432 with 1 Axes>"
      ]
     },
     "metadata": {
      "needs_background": "light"
     },
     "output_type": "display_data"
    }
   ],
   "source": [
    "# 결과 그래프 출력\n",
    "fig1 = plt.gcf()\n",
    "plt.plot(x, y, label=r'y = f(x)', c='b')\n",
    "plt.plot(x, y_dash, label=r\"y = f '(x)\", c='k')\n",
    "plt.legend()\n",
    "plt.show()\n",
    "fig1.savefig('ex01-13.tif', format='tif')"
   ]
  },
  {
   "cell_type": "markdown",
   "metadata": {
    "id": "L22xQBOAPSpH"
   },
   "source": [
    "シグモイド関数 $g(x) = \\dfrac{1}{1 + \\exp(-x)}$に対して同じことをやってみる。"
   ]
  },
  {
   "cell_type": "code",
   "execution_count": 22,
   "metadata": {
    "id": "KU6ZSfbEPSpH"
   },
   "outputs": [],
   "source": [
    "# 시그모이드 함수의 정의\n",
    "def g(x):\n",
    "    return 1 / (1 + np.exp(-x))"
   ]
  },
  {
   "cell_type": "code",
   "execution_count": 23,
   "metadata": {
    "colab": {
     "base_uri": "https://localhost:8080/"
    },
    "id": "P4_TAZkiPSpH",
    "outputId": "89519aa3-fe6e-490a-da35-78e9e54aef37"
   },
   "outputs": [
    {
     "name": "stdout",
     "output_type": "stream",
     "text": [
      "[0.1192  0.14805 0.18243 0.2227  0.26894 0.32082 0.37754 0.43782 0.5\n",
      " 0.56218 0.62246 0.67918 0.73106 0.7773  0.81757 0.85195 0.8808 ]\n"
     ]
    }
   ],
   "source": [
    "# 시그모이드 함수 계산\n",
    "y = g(x)\n",
    "print(y)"
   ]
  },
  {
   "cell_type": "code",
   "execution_count": 24,
   "metadata": {
    "colab": {
     "base_uri": "https://localhost:8080/",
     "height": 377
    },
    "id": "KxnzGh76PSpH",
    "outputId": "fab2cbb7-7b7d-41b3-a316-f896faa88a87"
   },
   "outputs": [
    {
     "data": {
      "image/png": "[encoded data removed]",
      "text/plain": [
       "<Figure size 432x432 with 1 Axes>"
      ]
     },
     "metadata": {
      "needs_background": "light"
     },
     "output_type": "display_data"
    }
   ],
   "source": [
    "# 그래프 출력\n",
    "\n",
    "fig1 = plt.gcf()\n",
    "plt.plot(x, y)\n",
    "plt.show()\n",
    "fig1.savefig('ex01-16.tif', format='tif', dpi=300)"
   ]
  },
  {
   "cell_type": "code",
   "execution_count": 25,
   "metadata": {
    "colab": {
     "base_uri": "https://localhost:8080/"
    },
    "id": "TDlA_t5cPSpH",
    "outputId": "6a20af64-676c-4458-a92c-c9dac6d4ebfa"
   },
   "outputs": [
    {
     "name": "stdout",
     "output_type": "stream",
     "text": [
      "[0.10499 0.12613 0.14915 0.1731  0.19661 0.21789 0.235   0.24613 0.25\n",
      " 0.24613 0.235   0.21789 0.19661 0.1731  0.14915 0.12613 0.10499]\n"
     ]
    }
   ],
   "source": [
    "# 시그모이드 함수의 수치미분\n",
    "\n",
    "# g를 미분한 함수 취득\n",
    "diff = fdiff(g)\n",
    "\n",
    "# diff를 사용해 미분 결과 y_dash를 계산\n",
    "y_dash = diff(x)\n",
    "\n",
    "# 결과 확인\n",
    "print(y_dash)"
   ]
  },
  {
   "cell_type": "code",
   "execution_count": 26,
   "metadata": {
    "colab": {
     "base_uri": "https://localhost:8080/",
     "height": 377
    },
    "id": "Iu_cT2v_PSpH",
    "outputId": "81a1eb93-5d82-4cb7-ce0f-8efdc190d19f"
   },
   "outputs": [
    {
     "data": {
      "image/png": "[encoded data removed]",
      "text/plain": [
       "<Figure size 432x432 with 1 Axes>"
      ]
     },
     "metadata": {
      "needs_background": "light"
     },
     "output_type": "display_data"
    }
   ],
   "source": [
    "# 結果のグラフ表示\n",
    "fig1 = plt.gcf()\n",
    "plt.plot(x, y, label=r'y = f(x)', c='b')\n",
    "plt.plot(x, y_dash, label=r\"y = f '(x)\", c='k')\n",
    "plt.legend()\n",
    "plt.show()\n",
    "fig1.savefig('ex01-18.tif', format='tif', dpi=300)"
   ]
  },
  {
   "cell_type": "markdown",
   "metadata": {
    "id": "U6uqQ6L4PSpH"
   },
   "source": [
    "シグモイド関数の微分結果は$y(1-y)$となることがわかっている。  \n",
    "これはyの二次関数で、$y=\\dfrac{1}{2}$の時に最大値$\\dfrac{1}{4}$を取る。  \n",
    "上のグラフはその結果と一致していて、数値微分が正しくできていることがわかる。"
   ]
  },
  {
   "cell_type": "markdown",
   "metadata": {
    "id": "Jp1YdzDvPSpH"
   },
   "source": [
    "## 1.5\t커스텀 클래스 정의하기"
   ]
  },
  {
   "cell_type": "code",
   "execution_count": 27,
   "metadata": {
    "id": "Ab0LDmO6PSpH"
   },
   "outputs": [],
   "source": [
    "# 그래프 출력을 위한 라이브러리\n",
    "import matplotlib.pyplot as plt\n",
    "\n",
    "# 원을 그리기 위해 필요한 라이브러리\n",
    "import matplotlib.patches as patches"
   ]
  },
  {
   "cell_type": "code",
   "execution_count": 28,
   "metadata": {
    "id": "ipJlePaSPSpI"
   },
   "outputs": [],
   "source": [
    "# Point 클래스 정의\n",
    "\n",
    "class Point:\n",
    "    # 인스턴스 생성 시에 두개두 개의 인수 x와 y를 가짐\n",
    "    def __init__(self, x, y):\n",
    "        # 인스턴스 속성 x에 첫 번째 인수를 할당\n",
    "        self.x = x\n",
    "        # 인스턴스 속성 y에 두 번째 인수를 할당\n",
    "        self.y = y\n",
    "    # draw 함수 정의(인수 없음)\n",
    "    def draw(self):\n",
    "        # (x, y)에 점을 그림\n",
    "        plt.plot(self.x, self.y, marker='o', markersize=10, c='k')"
   ]
  },
  {
   "cell_type": "code",
   "execution_count": 29,
   "metadata": {
    "id": "DAtC1ASWPSpI"
   },
   "outputs": [],
   "source": [
    "# Point 클래스로 인스턴스 변수 p1과 p2 생성\n",
    "p1 = Point(2,3)\n",
    "p2 = Point(-1, -2)"
   ]
  },
  {
   "cell_type": "code",
   "execution_count": 30,
   "metadata": {
    "colab": {
     "base_uri": "https://localhost:8080/"
    },
    "id": "nuPBuQQyPSpI",
    "outputId": "78698d87-6c39-4875-e5e5-e0790a76baab"
   },
   "outputs": [
    {
     "name": "stdout",
     "output_type": "stream",
     "text": [
      "2 3\n",
      "-1 -2\n"
     ]
    }
   ],
   "source": [
    "# p1과 p2의 속성 x, y\n",
    "print(p1.x, p1.y)\n",
    "print(p2.x, p2.y)"
   ]
  },
  {
   "cell_type": "code",
   "execution_count": 31,
   "metadata": {
    "colab": {
     "base_uri": "https://localhost:8080/",
     "height": 382
    },
    "id": "P1RcK4uhPSpI",
    "outputId": "fe1da3ed-8617-43b0-f741-64ca4e226168"
   },
   "outputs": [
    {
     "data": {
      "image/png": "[encoded data removed]",
      "text/plain": [
       "<Figure size 432x432 with 1 Axes>"
      ]
     },
     "metadata": {
      "needs_background": "light"
     },
     "output_type": "display_data"
    }
   ],
   "source": [
    "# p1과 p2의 draw 함수를 호출하고, 두 개의 점을 출력함\n",
    "fig1 = plt.gcf()\n",
    "p1.draw()\n",
    "p2.draw()\n",
    "plt.xlim(-4, 4)\n",
    "plt.ylim(-4, 4)\n",
    "plt.show()\n",
    "fig1.savefig('ex01-22.tif', format='tif', dpi=300)"
   ]
  },
  {
   "cell_type": "code",
   "execution_count": 32,
   "metadata": {
    "id": "EuESwqVcPSpI"
   },
   "outputs": [],
   "source": [
    "# Point의 자식 클래스 Circle 정의 1\n",
    "class Circle1(Point):\n",
    "    # Circle은 인스턴스 생성 시에 인수 x, y, r을 가짐\n",
    "    def __init__(self, x, y, r):\n",
    "        # xとyは、親クラスの属性として設定\n",
    "        super().__init__(x, y)\n",
    "        # r은 Circle의 속성으로 설정\n",
    "        self.r = r\n",
    "     \n",
    "    # 이 단계에서 draw 함수는 정의하지 않음"
   ]
  },
  {
   "cell_type": "code",
   "execution_count": 33,
   "metadata": {
    "id": "eIDjNrTaPSpI"
   },
   "outputs": [],
   "source": [
    "# Circle1 클래스에서 인스턴스 변수 c1_1을 생성\n",
    "c1_1 = Circle1(1, 0, 2)"
   ]
  },
  {
   "cell_type": "code",
   "execution_count": 34,
   "metadata": {
    "colab": {
     "base_uri": "https://localhost:8080/"
    },
    "id": "BEHIwmDzPSpI",
    "outputId": "2f8b09fc-50d7-40fc-ece5-6abf78c5a6cb"
   },
   "outputs": [
    {
     "name": "stdout",
     "output_type": "stream",
     "text": [
      "1 0 2\n"
     ]
    }
   ],
   "source": [
    "# c1_1의 속성 확인\n",
    "print(c1_1.x, c1_1.y, c1_1.r)"
   ]
  },
  {
   "cell_type": "code",
   "execution_count": 35,
   "metadata": {
    "colab": {
     "base_uri": "https://localhost:8080/",
     "height": 382
    },
    "id": "BLkCbcCiPSpI",
    "outputId": "b3add8f2-5b96-42c9-96cd-d9b87348c300"
   },
   "outputs": [
    {
     "data": {
      "image/png": "[encoded data removed]",
      "text/plain": [
       "<Figure size 432x432 with 1 Axes>"
      ]
     },
     "metadata": {
      "needs_background": "light"
     },
     "output_type": "display_data"
    }
   ],
   "source": [
    "# p1, p2, c1_1의 각 draw 함수를 호출\n",
    "fig1 = plt.gcf()\n",
    "ax = plt.subplot()\n",
    "p1.draw()\n",
    "p2.draw()\n",
    "c1_1.draw()\n",
    "plt.xlim(-4, 4)\n",
    "plt.ylim(-4, 4)\n",
    "plt.show()\n",
    "fig1.savefig('ex01-25.tif', format='tif', dpi=300)"
   ]
  },
  {
   "cell_type": "markdown",
   "metadata": {
    "id": "obg1_EqDPSpJ"
   },
   "source": [
    "この段階でdraw関数は親で定義した関数が呼ばれていることがわかる"
   ]
  },
  {
   "cell_type": "code",
   "execution_count": 36,
   "metadata": {
    "id": "5qXE1-RCPSpJ"
   },
   "outputs": [],
   "source": [
    "# Point의 자식 클래스 Circle의 정의 2\n",
    "class Circle2(Point):\n",
    "    # Circle은 인스턴스 생성 시에 인수 x, y, r을 가짐\n",
    "    def __init__(self, x, y, r):\n",
    "        # x와 y는 부모 클래스의 속성으로 설정\n",
    "        super().__init__(x, y)\n",
    "        # r은 Circle의 속성으로 설정\n",
    "        self.r = r\n",
    "     \n",
    "    # draw 함수는 자식 클래스만 따로 원을 그림\n",
    "    def draw(self):\n",
    "        # 원 그리기\n",
    "        c = patches.Circle(xy=(self.x, self.y), radius=self.r, fc='b', ec='k')\n",
    "        ax.add_patch(c)"
   ]
  },
  {
   "cell_type": "code",
   "execution_count": 37,
   "metadata": {
    "id": "8-XPnRryPSpJ"
   },
   "outputs": [],
   "source": [
    "# 클래스 Circle2로부터 인스턴스 변수 c2_1를 생성\n",
    "c2_1 = Circle2(1, 0, 2)"
   ]
  },
  {
   "cell_type": "code",
   "execution_count": 38,
   "metadata": {
    "colab": {
     "base_uri": "https://localhost:8080/",
     "height": 382
    },
    "id": "DKmZfGcMPSpJ",
    "outputId": "d6db10da-b2da-4fb9-d668-714f2f42b715"
   },
   "outputs": [
    {
     "data": {
      "image/png": "[encoded data removed]",
      "text/plain": [
       "<Figure size 432x432 with 1 Axes>"
      ]
     },
     "metadata": {
      "needs_background": "light"
     },
     "output_type": "display_data"
    }
   ],
   "source": [
    "# p1, p2, c2_1의 각 draw 함수를 호출\n",
    "fig1 = plt.gcf()\n",
    "ax = plt.subplot()\n",
    "p1.draw()\n",
    "p2.draw()\n",
    "c2_1.draw()\n",
    "plt.xlim(-4, 4)\n",
    "plt.ylim(-4, 4)\n",
    "plt.show()\n",
    "fig1.savefig('ex01-27.tif', format='tif', dpi=300)"
   ]
  },
  {
   "cell_type": "markdown",
   "metadata": {
    "id": "4i0C8PMqPSpJ"
   },
   "source": [
    "親のdarw関数の代わりに子のdraw関数が呼ばれたことがわかる  \n",
    "では、この関数と親の関数を両方呼びたいときはどうしたらいいか"
   ]
  },
  {
   "cell_type": "code",
   "execution_count": 39,
   "metadata": {
    "id": "6IEbSPH8PSpJ"
   },
   "outputs": [],
   "source": [
    "# Point의 자식 클래스 Circle의 정의 3\n",
    "class Circle3(Point):\n",
    "    # Circle은 인스턴스 생성 시에 인수 x, y, r을 가짐\n",
    "    def __init__(self, x, y, r):\n",
    "        # x와 y는 부모 클래스의 속성으로 설정\n",
    "        super().__init__(x, y)\n",
    "        # r은 Circle의 속성으로 설정\n",
    "        self.r = r\n",
    "     \n",
    "    # Circle의 draw 함수는 부모의 함수를 호출 한 다음, 원 그리기를 독자적으로 수행함\n",
    "    def draw(self):\n",
    "        # 부모 클래스의 draw 함수 호출\n",
    "        super().draw()\n",
    "        \n",
    "        # 원 그리기\n",
    "        c = patches.Circle(xy=(self.x, self.y), radius=self.r, fc='b', ec='k')\n",
    "        ax.add_patch(c)"
   ]
  },
  {
   "cell_type": "code",
   "execution_count": 40,
   "metadata": {
    "id": "rmFwn3pCPSpJ"
   },
   "outputs": [],
   "source": [
    "# Circle3 클래스로부터 인스턴스 변수 c3_1를 생성\n",
    "c3_1 = Circle3(1, 0, 2)"
   ]
  },
  {
   "cell_type": "code",
   "execution_count": 41,
   "metadata": {
    "colab": {
     "base_uri": "https://localhost:8080/",
     "height": 382
    },
    "id": "AzhTYVYYPSpJ",
    "outputId": "32ada45f-f383-475c-f32b-16705774fcaa"
   },
   "outputs": [
    {
     "data": {
      "image/png": "[encoded data removed]",
      "text/plain": [
       "<Figure size 432x432 with 1 Axes>"
      ]
     },
     "metadata": {
      "needs_background": "light"
     },
     "output_type": "display_data"
    }
   ],
   "source": [
    "# p1, p2, c3_1의 각 draw 함수를 호출\n",
    "fig1 = plt.gcf()\n",
    "ax = plt.subplot()\n",
    "p1.draw()\n",
    "p2.draw()\n",
    "c3_1.draw()\n",
    "plt.xlim(-4, 4)\n",
    "plt.ylim(-4, 4)\n",
    "plt.show()\n",
    "fig1.savefig('ex01-29.tif', format='tif', dpi=300)"
   ]
  },
  {
   "cell_type": "markdown",
   "metadata": {
    "id": "f9iMASK1PSpJ"
   },
   "source": [
    "無事、両方を呼び出すことができた"
   ]
  },
  {
   "cell_type": "markdown",
   "metadata": {
    "id": "eTmbHTnQPSpK"
   },
   "source": [
    "## 1.6\t인스턴스를 함수로 사용하는 방법"
   ]
  },
  {
   "cell_type": "code",
   "execution_count": 42,
   "metadata": {
    "id": "rx8DIFfzPSpK"
   },
   "outputs": [],
   "source": [
    "# 함수 클래스 H의 정의\n",
    "class H:\n",
    "    def __call__(self, x):\n",
    "        return 2*x**2 + 2"
   ]
  },
  {
   "cell_type": "code",
   "execution_count": 43,
   "metadata": {
    "colab": {
     "base_uri": "https://localhost:8080/"
    },
    "id": "PmLLY2RwPSpK",
    "outputId": "6aa91a27-d319-4223-d987-5ba87e5da1e7"
   },
   "outputs": [
    {
     "name": "stdout",
     "output_type": "stream",
     "text": [
      "[-2.   -1.75 -1.5  -1.25 -1.   -0.75 -0.5  -0.25  0.    0.25  0.5   0.75\n",
      "  1.    1.25  1.5   1.75  2.  ]\n",
      "[10.     8.125  6.5    5.125  4.     3.125  2.5    2.125  2.     2.125\n",
      "  2.5    3.125  4.     5.125  6.5    8.125 10.   ]\n"
     ]
    }
   ],
   "source": [
    "# h가 함수로 동작하는지 확인\n",
    "\n",
    "# 넘파이 배열 x를 정의\n",
    "x = np.arange(-2, 2.1, 0.25)\n",
    "print(x)\n",
    "\n",
    "# H 클래스의 인스턴스로 h를 생성\n",
    "h = H() \n",
    "\n",
    "# 함수 h 호출\n",
    "y = h(x)\n",
    "print(y)"
   ]
  },
  {
   "cell_type": "code",
   "execution_count": 44,
   "metadata": {
    "colab": {
     "base_uri": "https://localhost:8080/",
     "height": 377
    },
    "id": "aLJPaaFmPSpK",
    "outputId": "3134f401-cdb8-4400-fae8-3aca74bc5750"
   },
   "outputs": [
    {
     "data": {
      "image/png": "[encoded data removed]",
      "text/plain": [
       "<Figure size 432x432 with 1 Axes>"
      ]
     },
     "metadata": {
      "needs_background": "light"
     },
     "output_type": "display_data"
    }
   ],
   "source": [
    "# 그래프 출력\n",
    "fig1 = plt.gcf()\n",
    "plt.plot(x, y)\n",
    "plt.show()\n",
    "fig1.savefig('ex01-32.tif', format='tif', dpi=300)"
   ]
  },
  {
   "cell_type": "code",
   "execution_count": null,
   "metadata": {
    "id": "eRZh0Nv-PSpK"
   },
   "outputs": [],
   "source": []
  }
 ],
 "metadata": {
  "colab": {
   "collapsed_sections": [],
   "include_colab_link": true,
   "name": "ch01_python.ipynb의 사본",
   "provenance": [],
   "toc_visible": true
  },
  "kernelspec": {
   "display_name": "Python 3 (ipykernel)",
   "language": "python",
   "name": "python3"
  },
  "language_info": {
   "codemirror_mode": {
    "name": "ipython",
    "version": 3
   },
   "file_extension": ".py",
   "mimetype": "text/x-python",
   "name": "python",
   "nbconvert_exporter": "python",
   "pygments_lexer": "ipython3",
   "version": "3.9.7"
  }
 },
 "nbformat": 4,
 "nbformat_minor": 1
}
